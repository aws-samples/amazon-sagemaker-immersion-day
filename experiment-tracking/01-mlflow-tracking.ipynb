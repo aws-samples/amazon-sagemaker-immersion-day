{
 "cells": [
  {
   "cell_type": "markdown",
   "id": "f9927463-acfe-49b2-9658-8e4d5863ed4f",
   "metadata": {},
   "source": [
    "# SageMaker Training with MLflow\n",
    "\n",
    "In this lab, we show how you can use SageMaker Managed MLflow for experimentation tracking.\n",
    "We will show a few scenarios, mimic the workflow of a data scientist that first develops locally training functions or training scripts to test algorithms before using the SageMaker Managed infrastructure to run remote jobs.\n",
    "\n",
    "## Setup environment\n",
    "\n",
    "install the necessary libraries. We use the `mlflow` version `2.16.2`.\n",
    "In order to log data to MLflow, we need to install the [`sagemaker-mlflow`](https://github.com/aws/sagemaker-mlflow) plugin.\n",
    "This plugin generates Signature V4 headers in each outgoing request to the Amazon SageMaker with MLflow capability, determines the URL of capability to connect to tracking servers, and registers models to the SageMaker Model Registry.\n",
    "It generates a token with the SigV4 Algorithm that the service will use to conduct Authentication and Authorization using AWS IAM.\n",
    "\n",
    "Using the plugin allows you to use transparently the `mlflow` client SDK without any further modifications to log securely your metadata and artifacts to the SageMaker Managed MLflow."
   ]
  },
  {
   "cell_type": "code",
   "execution_count": 1,
   "id": "dde47e9f-bfc4-48be-8f2f-49ed29360515",
   "metadata": {},
   "outputs": [],
   "source": [
    "!pip install -q sagemaker[local] mlflow-skinny==2.16.2 sagemaker-mlflow"
   ]
  },
  {
   "cell_type": "markdown",
   "id": "2f5e1903-f68f-4b06-8df7-9c6478bc4c8d",
   "metadata": {},
   "source": [
    "Import the necessary libraries and initialize client SDKs"
   ]
  },
  {
   "cell_type": "code",
   "execution_count": 32,
   "id": "a9df3452-d7a2-4aa4-b75c-1e1289b9fbe2",
   "metadata": {},
   "outputs": [],
   "source": [
    "import sagemaker\n",
    "from sagemaker import get_execution_role\n",
    "from sagemaker.sklearn.estimator import SKLearn\n",
    "\n",
    "import boto3\n",
    "import numpy as np\n",
    "import pandas as pd\n",
    "import os\n",
    "import json\n",
    "\n",
    "from IPython.display import Javascript, HTML\n",
    "\n",
    "# Define session, role, and region so we can\n",
    "# perform any SageMaker tasks we need\n",
    "boto_session = boto3.Session()\n",
    "sagemaker_session = sagemaker.Session()\n",
    "role = get_execution_role()\n",
    "region = sagemaker_session.boto_region_name\n",
    "sm_client = boto_session.client(\"sagemaker\")"
   ]
  },
  {
   "cell_type": "markdown",
   "id": "926b4891-c9ab-4e8d-a7dd-0ba357d01e0a",
   "metadata": {},
   "source": [
    "We now extract information about the SageMaker DOmain and Space where we are working.\n",
    "It they will become useful later for logging more precise information about which `user-profile` has logged specific MLflow runs."
   ]
  },
  {
   "cell_type": "code",
   "execution_count": 3,
   "id": "83521dbb-f840-4ead-af51-13afcf4be5c7",
   "metadata": {},
   "outputs": [
    {
     "name": "stdout",
     "output_type": "stream",
     "text": [
      "SageMaker domain id: d-vuu8gn51m6ef\n",
      "Space name: sagemaker-space\n",
      "User profile name: sagemakeruser\n"
     ]
    }
   ],
   "source": [
    "NOTEBOOK_METADATA_FILE = \"/opt/ml/metadata/resource-metadata.json\"\n",
    "domain_id = None\n",
    "\n",
    "if os.path.exists(NOTEBOOK_METADATA_FILE):\n",
    "    with open(NOTEBOOK_METADATA_FILE, \"rb\") as f:\n",
    "        metadata = json.loads(f.read())\n",
    "        domain_id = metadata.get('DomainId')\n",
    "        space_name = metadata.get('SpaceName')\n",
    "\n",
    "if not space_name:\n",
    "    raise Exception(f\"Cannot find the current domain. Make sure you run this notebook in a JupyterLab in the SageMaker AI Studio\")\n",
    "else:\n",
    "    print(f\"SageMaker domain id: {domain_id}\")\n",
    "\n",
    "if not space_name:\n",
    "    raise Exception(f\"Cannot find the current space name. Make sure you run this notebook in a JupyterLab in the SageMaker Studio\")\n",
    "else:\n",
    "    print(f\"Space name: {space_name}\")\n",
    "    \n",
    "r = sm_client.describe_space(DomainId=domain_id, SpaceName=space_name)\n",
    "user_profile_name = r['OwnershipSettings']['OwnerUserProfileName']\n",
    "\n",
    "print(f\"User profile name: {user_profile_name}\")"
   ]
  },
  {
   "cell_type": "markdown",
   "id": "4c442095-85ef-4752-ad6d-40d87f009290",
   "metadata": {},
   "source": [
    "For local development, it is useful to have a reference of which SageMaker Distribution Image we are using.\n",
    "You can find this information as rescribed below"
   ]
  },
  {
   "cell_type": "code",
   "execution_count": 4,
   "id": "9c4e9957-2a89-4c16-8669-982b0867e689",
   "metadata": {},
   "outputs": [
    {
     "name": "stdout",
     "output_type": "stream",
     "text": [
      "\n",
      "SageMaker image: \u001b[1marn:aws:sagemaker:us-west-2:542918446943:image/sagemaker-distribution-cpu\u001b[0m\n",
      "SageMaker image version: \u001b[1m2.4.1\u001b[0m\n",
      "\n"
     ]
    }
   ],
   "source": [
    "r = sm_client.describe_space(DomainId=domain_id, SpaceName=space_name)\n",
    "resource_spec = r['SpaceSettings']['JupyterLabAppSettings']['DefaultResourceSpec']\n",
    "sm_image = resource_spec.get('SageMakerImageArn', 'not defined')\n",
    "sm_image_version = resource_spec.get('SageMakerImageVersionAlias', 'not defined')\n",
    "print(f\"\"\"\n",
    "SageMaker image: \\033[1m{sm_image}\\033[0m\n",
    "SageMaker image version: \\033[1m{sm_image_version}\\033[0m\n",
    "\"\"\")\n"
   ]
  },
  {
   "cell_type": "markdown",
   "id": "bbb73512-3e3b-447b-a01b-0b706dc54ab5",
   "metadata": {},
   "source": [
    "Full details of the space where we are operation can be found as follow"
   ]
  },
  {
   "cell_type": "code",
   "execution_count": 5,
   "id": "a8f97704-3f93-4aa5-9454-b58d4aa4dbe4",
   "metadata": {},
   "outputs": [
    {
     "name": "stdout",
     "output_type": "stream",
     "text": [
      "{ 'CreationTime': datetime.datetime(2025, 4, 15, 12, 29, 46, 657000, tzinfo=tzlocal()),\n",
      "  'DomainId': 'd-vuu8gn51m6ef',\n",
      "  'LastModifiedTime': datetime.datetime(2025, 4, 15, 14, 49, 8, 475000, tzinfo=tzlocal()),\n",
      "  'OwnershipSettings': {'OwnerUserProfileName': 'sagemakeruser'},\n",
      "  'ResponseMetadata': { 'HTTPHeaders': { 'content-length': '910',\n",
      "                                         'content-type': 'application/x-amz-json-1.1',\n",
      "                                         'date': 'Thu, 17 Apr 2025 12:29:40 '\n",
      "                                                 'GMT',\n",
      "                                         'x-amzn-requestid': '916dc5da-3535-40be-a593-c3ecbee7533b'},\n",
      "                        'HTTPStatusCode': 200,\n",
      "                        'RequestId': '916dc5da-3535-40be-a593-c3ecbee7533b',\n",
      "                        'RetryAttempts': 0},\n",
      "  'SpaceArn': 'arn:aws:sagemaker:us-west-2:975049911976:space/d-vuu8gn51m6ef/sagemaker-space',\n",
      "  'SpaceDisplayName': 'sagemaker-space',\n",
      "  'SpaceName': 'sagemaker-space',\n",
      "  'SpaceSettings': { 'AppType': 'JupyterLab',\n",
      "                     'CustomFileSystems': [],\n",
      "                     'JupyterLabAppSettings': { 'DefaultResourceSpec': { 'InstanceType': 'ml.m5.2xlarge',\n",
      "                                                                         'SageMakerImageArn': 'arn:aws:sagemaker:us-west-2:542918446943:image/sagemaker-distribution-cpu',\n",
      "                                                                         'SageMakerImageVersionAlias': '2.4.1'}},\n",
      "                     'SpaceStorageSettings': { 'EbsStorageSettings': { 'EbsVolumeSizeInGb': 50}}},\n",
      "  'SpaceSharingSettings': {'SharingType': 'Private'},\n",
      "  'Status': 'InService',\n",
      "  'Url': 'https://huxejyshjnw7u3w.studio.us-west-2.sagemaker.aws/jupyterlab/default'}\n"
     ]
    }
   ],
   "source": [
    "import pprint\n",
    "\n",
    "pp = pprint.PrettyPrinter(indent=2)\n",
    "pp.pprint(r)"
   ]
  },
  {
   "cell_type": "markdown",
   "id": "047ce23c-a972-4cb0-acf9-7a2ff6c73937",
   "metadata": {
    "jp-MarkdownHeadingCollapsed": true
   },
   "source": [
    "## MLflow tracking server\n",
    "\n",
    "If running at an AWS led event, the MLflow tracking server has already been provisioned to you.\n",
    "Alternatively, make sure you have run the CloudFormation template to create the necessary infrastructure, including the MLflow tracking server."
   ]
  },
  {
   "cell_type": "code",
   "execution_count": 6,
   "id": "dd30f354-b3b8-4d0a-85a7-263266cee97d",
   "metadata": {},
   "outputs": [
    {
     "name": "stdout",
     "output_type": "stream",
     "text": [
      "You have 1 running MLflow server(s). Get the first server ARN:arn:aws:sagemaker:us-west-2:975049911976:mlflow-tracking-server/mlflow-d-vuu8gn51m6ef\n"
     ]
    }
   ],
   "source": [
    "# Find an active MLflow server in the account\n",
    "tracking_servers = [s['TrackingServerArn'] for s \n",
    "                    in sm_client.list_mlflow_tracking_servers()['TrackingServerSummaries']\n",
    "                    if s['IsActive'] == 'Active']\n",
    "\n",
    "if len(tracking_servers) < 1:\n",
    "    print(\"You don't have any active MLflow servers. Trying to find a server in the status 'Creating'...\")\n",
    "\n",
    "    r = sm_client.list_mlflow_tracking_servers(\n",
    "        TrackingServerStatus='Creating',\n",
    "    )['TrackingServerSummaries']\n",
    "\n",
    "    if len(r) < 1:\n",
    "        print(\"You don't have any MLflow server in the status 'Creating'. Run the next code cell to create a new one.\")\n",
    "        mlflow_server_arn = None\n",
    "        mlflow_name = None\n",
    "    else:\n",
    "        mlflow_server_arn = r[0]['TrackingServerArn']\n",
    "        mlflow_name = r[0]['TrackingServerName']\n",
    "        print(f\"You have an MLflow server {mlflow_arn} in the status 'Creating', going to use this one\")\n",
    "else:\n",
    "    mlflow_server_arn = tracking_servers[0]\n",
    "    mlflow_name = tracking_servers[0].split('/')[1]\n",
    "    print(f\"You have {len(tracking_servers)} running MLflow server(s). Get the first server ARN:{mlflow_server_arn}\")\n",
    "\n",
    "mlflow_experiment_name = \"sm-immersion-day-experiment\""
   ]
  },
  {
   "cell_type": "markdown",
   "id": "bf00470b-7b08-42f0-845d-2bef9d38ee21",
   "metadata": {
    "jp-MarkdownHeadingCollapsed": true
   },
   "source": [
    "## Data Preparation\n",
    "\n",
    "Let's download the save the Iris dataset and save them in the `./data` folder"
   ]
  },
  {
   "cell_type": "code",
   "execution_count": 7,
   "id": "44ebbf07-b44d-4246-bf0f-dacb6a89b6c7",
   "metadata": {},
   "outputs": [],
   "source": [
    "os.makedirs(\"./data\", exist_ok=True)\n",
    "\n",
    "s3_client = boto3.client(\"s3\")\n",
    "s3_client.download_file(\n",
    "    f\"sagemaker-example-files-prod-{region}\", \"datasets/tabular/iris/iris.data\", \"./data/iris.csv\"\n",
    ")\n",
    "\n",
    "df_iris = pd.read_csv(\"./data/iris.csv\", header=None)\n",
    "df_iris[4] = df_iris[4].map({\"Iris-setosa\": 0, \"Iris-versicolor\": 1, \"Iris-virginica\": 2})\n",
    "iris = df_iris[[4, 0, 1, 2, 3]].to_numpy()\n",
    "np.savetxt(\"./data/iris.csv\", iris, delimiter=\",\", fmt=\"%1.1f, %1.3f, %1.3f, %1.3f, %1.3f\")\n"
   ]
  },
  {
   "cell_type": "code",
   "execution_count": 8,
   "id": "dafeafbd-a635-4e33-b522-cf18b2481e9b",
   "metadata": {},
   "outputs": [],
   "source": [
    "# S3 prefix for the training dataset to be uploaded to\n",
    "prefix = \"DEMO-scikit-iris\"\n",
    "\n",
    "WORK_DIRECTORY = \"data\"\n",
    "\n",
    "train_input = sagemaker_session.upload_data(\n",
    "    WORK_DIRECTORY, key_prefix=\"{}/{}\".format(prefix, WORK_DIRECTORY)\n",
    ")"
   ]
  },
  {
   "cell_type": "markdown",
   "id": "175dbb0b-d2cb-4965-b124-7131e66d07b4",
   "metadata": {},
   "source": [
    "Prepare the folder for the training code"
   ]
  },
  {
   "cell_type": "code",
   "execution_count": 9,
   "id": "55d7bc08-0d13-442a-ad0a-07a3f730a3b1",
   "metadata": {},
   "outputs": [],
   "source": [
    "!mkdir -p training_code"
   ]
  },
  {
   "cell_type": "markdown",
   "id": "10dded34-a10d-4ea7-a293-cf2acf7c4dec",
   "metadata": {},
   "source": [
    "store the training data in a Pandas DataFrame"
   ]
  },
  {
   "cell_type": "code",
   "execution_count": 10,
   "id": "924d85b3-eb4a-4240-a56a-0378da9878e2",
   "metadata": {},
   "outputs": [],
   "source": [
    "train_data = pd.read_csv('./data/iris.csv', header=None, engine=\"python\")"
   ]
  },
  {
   "cell_type": "markdown",
   "id": "af04849e-8b55-428f-9c8d-f591b191883c",
   "metadata": {},
   "source": [
    "## Remote function execution\n",
    "\n",
    "First execute the training function locally. Please note the `@remote` decorator commented out on top of the function definition. WHen defined like below, this is just a regular python function that can be executed on your local run-time environment.\n",
    "We set the `MLFLOW_TRACKING_URI` ENV variable to the `mlflow_server_arn`, so the client will log to the remote MLflow Tracking server.\n",
    "Setting the `LOGNAME` ENV variable on the other end, will make it easier to identify the user that is logging a run."
   ]
  },
  {
   "cell_type": "code",
   "execution_count": 17,
   "id": "f318a9c0-3526-4daa-ba8a-03f905cdffbb",
   "metadata": {},
   "outputs": [],
   "source": [
    "os.environ['MLFLOW_TRACKING_URI'] = mlflow_server_arn\n",
    "os.environ[\"LOGNAME\"] = user_profile_name\n",
    "os.environ[\"MLFLOW_EXPERIMENT_NAME\"] = mlflow_experiment_name\n",
    "\n",
    "# define a local function\n",
    "# @remote\n",
    "def train(train_data, max_leaf_nodes, run_name='Training-local-function-execution'):\n",
    "    import mlflow\n",
    "    from mlflow.models import infer_signature\n",
    "    from sklearn import tree\n",
    "    import pandas as pd\n",
    "\n",
    "    # Enable autologging in MLflow for SKlearn\n",
    "    mlflow.sklearn.autolog()\n",
    "\n",
    "    with mlflow.start_run(run_name=run_name) as run:\n",
    "        # labels are in the first column\n",
    "        train_y = train_data.iloc[:, 0]\n",
    "        train_X = train_data.iloc[:, 1:]\n",
    "\n",
    "        # Here we support a single hyperparameter, 'max_leaf_nodes'. Note that you can add as many\n",
    "        # as your training my require in the ArgumentParser above.\n",
    "\n",
    "        # Now use scikit-learn's decision tree classifier to train the model.\n",
    "        clf = tree.DecisionTreeClassifier(max_leaf_nodes=max_leaf_nodes)\n",
    "        clf = clf.fit(train_X, train_y)\n",
    "\n",
    "        predictions = clf.predict(train_X)\n",
    "        signature = infer_signature(train_X, predictions)\n",
    "\n",
    "        mlflow.set_tags(\n",
    "            {\n",
    "                'mlflow.source.name': \"def train(...)\",\n",
    "                'mlflow.source.type': 'LOCAL',\n",
    "            }\n",
    "        )\n",
    "\n",
    "        mlflow.sklearn.log_model(clf, \"model\", signature=signature)"
   ]
  },
  {
   "cell_type": "code",
   "execution_count": 18,
   "id": "fbe9a8a4-a7cf-43b6-a544-9655ebaf617d",
   "metadata": {},
   "outputs": [
    {
     "name": "stderr",
     "output_type": "stream",
     "text": [
      "2025/04/17 12:42:54 WARNING mlflow.utils.autologging_utils: MLflow sklearn autologging is known to be compatible with 0.24.1 <= scikit-learn <= 1.5.1, but the installed version is 1.5.2. If you encounter errors during autologging, try upgrading / downgrading scikit-learn to a compatible version, or try upgrading MLflow.\n",
      "2025/04/17 12:43:00 INFO mlflow.tracking._tracking_service.client: 🏃 View run Training-local-function-execution at: https://us-west-2.experiments.sagemaker.aws/#/experiments/1/runs/0499fea04d7d48f8b0534f2ddd1f94f1.\n",
      "2025/04/17 12:43:00 INFO mlflow.tracking._tracking_service.client: 🧪 View experiment at: https://us-west-2.experiments.sagemaker.aws/#/experiments/1.\n"
     ]
    }
   ],
   "source": [
    "train(train_data, 5)"
   ]
  },
  {
   "cell_type": "markdown",
   "id": "be565f26-decd-4c14-bcb4-5786e6ddad35",
   "metadata": {},
   "source": [
    "Let's now verify the details of the run logged to SageMaker AI Managed MLflow."
   ]
  },
  {
   "cell_type": "code",
   "execution_count": 24,
   "id": "5d5c6c97-2d2c-41cf-ab58-edcd14906b36",
   "metadata": {},
   "outputs": [],
   "source": [
    "import mlflow\n",
    "\n",
    "experiment_id = mlflow.get_experiment_by_name(mlflow_experiment_name).experiment_id\n",
    "# get the last run in MLflow\n",
    "last_run_id = mlflow.search_runs(\n",
    "    experiment_ids=[experiment_id], \n",
    "    max_results=1, \n",
    "    order_by=[\"attributes.start_time DESC\"]\n",
    ")['run_id'][0]\n",
    "\n",
    "# get the presigned url to open the MLflow UI\n",
    "presigned_url = sm_client.create_presigned_mlflow_tracking_server_url(\n",
    "    TrackingServerName=mlflow_name,\n",
    "    ExpiresInSeconds=60,\n",
    "    SessionExpirationDurationInSeconds=1800\n",
    ")['AuthorizedUrl']\n",
    "\n",
    "mlflow_run_link = f\"{presigned_url.split('/auth')[0]}/#/experiments/{experiment_id}/runs/{last_run_id}\""
   ]
  },
  {
   "cell_type": "markdown",
   "id": "1f0ac435-87e1-4aa7-bc45-ac10f23caaf9",
   "metadata": {},
   "source": [
    "We first need to open the presigned URL"
   ]
  },
  {
   "cell_type": "code",
   "execution_count": 20,
   "id": "94a4e893-518c-45fe-b59c-3193db41cd18",
   "metadata": {},
   "outputs": [
    {
     "data": {
      "application/javascript": [
       "window.open(\"https://t-olidttmc8c2z.us-west-2.experiments.sagemaker.aws/auth?authToken=eyJhbGciOiJIUzI1NiJ9.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.PM_0_1XHJuzXrvorE-kNJw6rNjDmdsyav0nxxWNjgnQ\");"
      ],
      "text/plain": [
       "<IPython.core.display.Javascript object>"
      ]
     },
     "metadata": {},
     "output_type": "display_data"
    }
   ],
   "source": [
    "# first open the MLflow UI - you can close a new opened window\n",
    "display(Javascript('window.open(\"{}\");'.format(presigned_url)))"
   ]
  },
  {
   "cell_type": "markdown",
   "id": "c14f5bb1-c08c-48ec-917c-a616b50ed0b1",
   "metadata": {},
   "source": [
    "And then we can open the details of the last logged run"
   ]
  },
  {
   "cell_type": "code",
   "execution_count": 16,
   "id": "6b17ca22-a50b-422b-b2cc-cc4d705ac0ca",
   "metadata": {},
   "outputs": [
    {
     "data": {
      "application/javascript": [
       "window.open(\"https://t-olidttmc8c2z.us-west-2.experiments.sagemaker.aws/#/experiments/1/runs/e8432c0536f44985a2c58433a6249e0d\");"
      ],
      "text/plain": [
       "<IPython.core.display.Javascript object>"
      ]
     },
     "metadata": {},
     "output_type": "display_data"
    }
   ],
   "source": [
    "display(Javascript('window.open(\"{}\");'.format(mlflow_run_link)))"
   ]
  },
  {
   "cell_type": "markdown",
   "id": "6183e301-59fb-46d3-9835-86ff1917b478",
   "metadata": {},
   "source": [
    "Now lets get ready to execute this function as a SageMaker Training job in the managed infrastructure.\n",
    "We first define the dependencies in a `requirements.txt` file."
   ]
  },
  {
   "cell_type": "code",
   "execution_count": null,
   "id": "9032e854-0ea2-41b0-80b2-0277d3a104a9",
   "metadata": {},
   "outputs": [],
   "source": [
    "%%writefile training_code/requirements.txt\n",
    "mlflow==2.16.2\n",
    "sagemaker-mlflow==0.1.0"
   ]
  },
  {
   "cell_type": "markdown",
   "id": "fec5cb5b-cded-40f4-8b2f-ccaef187ff72",
   "metadata": {},
   "source": [
    "We then prepare a `config.yml` file that holds the configurations we want for the training job.\n",
    "Full details about which options can be configured for the `@remote` decorator can be found in the [official documentation](https://docs.aws.amazon.com/sagemaker/latest/dg/train-remote-decorator-config.html).\n",
    "In this case, note how we are also passing the `MLFLOW_TRACKING_URI` ENV variable so to avoid to always set the tracking server uri, and the `user_profile_name` as the `LOGNAME` to keep track of who has created what."
   ]
  },
  {
   "cell_type": "code",
   "execution_count": null,
   "id": "2c85e7f4-8ea1-4b5c-9b3d-bde48278a9f6",
   "metadata": {},
   "outputs": [],
   "source": [
    "config_yaml = f\"\"\"\n",
    "SchemaVersion: '1.0'\n",
    "SageMaker:\n",
    "  PythonSDK:\n",
    "    Modules:\n",
    "      TelemetryOptOut: true\n",
    "      RemoteFunction:\n",
    "        # role arn is not required if in SageMaker Notebook instance or SageMaker Studio\n",
    "        # Uncomment the following line and replace with the right execution role if in a local IDE\n",
    "        # RoleArn: <replace the role arn here>\n",
    "        InstanceType: ml.m5.xlarge\n",
    "        EnvironmentVariables: {{'MLFLOW_TRACKING_URI': {mlflow_server_arn}, 'LOGNAME': {user_profile_name}, 'MLFLOW_EXPERIMENT_NAME': {mlflow_experiment_name}}}\n",
    "        Dependencies: ./training_code/requirements.txt\n",
    "        IncludeLocalWorkDir: false\n",
    "        CustomFileFilter:\n",
    "          IgnoreNamePatterns:\n",
    "          - \"data/*\"\n",
    "          - \"models/*\"\n",
    "          - \"*.ipynb\"\n",
    "          - \"__pycache__\"\n",
    "\n",
    "\"\"\"\n",
    "\n",
    "print(config_yaml, file=open('config.yaml', 'w'))\n",
    "print(config_yaml)"
   ]
  },
  {
   "cell_type": "code",
   "execution_count": null,
   "id": "5a0f738c-b4f0-4de3-a0b7-0faa7595cfae",
   "metadata": {},
   "outputs": [],
   "source": [
    "import os\n",
    "\n",
    "# Use the current working directory as the location for SageMaker Python SDK config file\n",
    "os.environ[\"SAGEMAKER_USER_CONFIG_OVERRIDE\"] = os.getcwd()"
   ]
  },
  {
   "cell_type": "code",
   "execution_count": null,
   "id": "41e82982-f7af-4038-ad27-612fbd22c577",
   "metadata": {},
   "outputs": [],
   "source": [
    "from sagemaker.remote_function import remote\n",
    "\n",
    "# define a local function\n",
    "@remote\n",
    "def train(train_data, max_leaf_nodes, run_name='Training-remote-function-execution'):\n",
    "    import mlflow\n",
    "    from mlflow.models import infer_signature\n",
    "    from sklearn import tree\n",
    "    import pandas as pd\n",
    "\n",
    "    # Enable autologging in MLflow for SKlearn\n",
    "    mlflow.sklearn.autolog()\n",
    "\n",
    "    with mlflow.start_run(run_name=run_name) as run:\n",
    "        # labels are in the first column\n",
    "        train_y = train_data.iloc[:, 0]\n",
    "        train_X = train_data.iloc[:, 1:]\n",
    "\n",
    "        # Now use scikit-learn's decision tree classifier to train the model.\n",
    "        clf = tree.DecisionTreeClassifier(max_leaf_nodes=max_leaf_nodes)\n",
    "        clf = clf.fit(train_X, train_y)\n",
    "\n",
    "        predictions = clf.predict(train_X)\n",
    "        signature = infer_signature(train_X, predictions)\n",
    "\n",
    "        mlflow.set_tags(\n",
    "            {\n",
    "                'mlflow.source.name': \"@remote\\ndef train(...)\",\n",
    "                'mlflow.source.type': 'JOB',\n",
    "            }\n",
    "        )\n",
    "\n",
    "        mlflow.sklearn.log_model(clf, \"model\", signature=signature)"
   ]
  },
  {
   "cell_type": "code",
   "execution_count": null,
   "id": "eb5708b8-16c0-4058-938b-f209635795d2",
   "metadata": {},
   "outputs": [],
   "source": [
    "train_data = pd.read_csv('./data/iris.csv', header=None, engine=\"python\")"
   ]
  },
  {
   "cell_type": "markdown",
   "id": "4af04298-42ac-47b2-a95e-fec34dedb5bd",
   "metadata": {},
   "source": [
    "Now the execution of the `train` function will run in the cloud and the SageMaker SDK will take care of serializing/deserializing and marshalling/unmarshalling the data/variables.\n",
    "All relevant files will be packaged and made available to the training job in the way SageMaker expect it to find them."
   ]
  },
  {
   "cell_type": "code",
   "execution_count": null,
   "id": "21d6843b-60f8-4fd5-ae20-b6f8c0af21ce",
   "metadata": {},
   "outputs": [],
   "source": [
    "train(train_data, 2)"
   ]
  },
  {
   "cell_type": "code",
   "execution_count": null,
   "id": "9df734a1-ac62-49d4-8fd0-c3ffb0dc8b28",
   "metadata": {},
   "outputs": [],
   "source": [
    "# get the last run in MLflow\n",
    "last_run_id = mlflow.search_runs(\n",
    "    experiment_ids=[experiment_id], \n",
    "    max_results=1, \n",
    "    order_by=[\"attributes.start_time DESC\"]\n",
    ")['run_id'][0]\n",
    "\n",
    "mlflow_run_link = f\"{presigned_url.split('/auth')[0]}/#/experiments/{experiment_id}/runs/{last_run_id}\""
   ]
  },
  {
   "cell_type": "code",
   "execution_count": null,
   "id": "d448b6d1-796b-473a-b1db-d3af2d2c4edd",
   "metadata": {},
   "outputs": [],
   "source": [
    "display(Javascript('window.open(\"{}\");'.format(mlflow_run_link)))"
   ]
  },
  {
   "cell_type": "markdown",
   "id": "515a1ddc-61a8-431b-98c9-b1a0197520d8",
   "metadata": {},
   "source": [
    "## Running SageMaker training job in local mode\n",
    "\n",
    "We also have the possibility to use SageMaker in script mode using our own managed containers and just pass a script.\n",
    "Let first make sure all dependencies have already been installed. First, lets check that Docker has been enabled on the SageMaker AI Studio Domain"
   ]
  },
  {
   "cell_type": "code",
   "execution_count": null,
   "id": "71f392ad-b32b-4b0f-8d4f-e2e2e6a62460",
   "metadata": {},
   "outputs": [],
   "source": [
    "# check that docker enabled in the SageMaker domain\n",
    "docker_settings = sm_client.describe_domain(DomainId=domain_id)['DomainSettings'].get('DockerSettings')\n",
    "docker_enabled = False\n",
    "\n",
    "if docker_settings:\n",
    "    if docker_settings.get('EnableDockerAccess') in ['ENABLED']:\n",
    "        print(f\"The docker access is ENABLED in the domain {domain_id}\")\n",
    "        docker_enabled = True\n",
    "\n",
    "if not docker_enabled:\n",
    "    raise Exception(f\"You must enable docker access in the domain to use Studio local mode\")"
   ]
  },
  {
   "cell_type": "markdown",
   "id": "2eabc740-4e9a-46d0-9403-054fc964c0fe",
   "metadata": {},
   "source": [
    "and then that `docker` has been installed."
   ]
  },
  {
   "cell_type": "code",
   "execution_count": 37,
   "id": "22f94095-87b9-428c-9a36-989d28ecf813",
   "metadata": {},
   "outputs": [
    {
     "name": "stdout",
     "output_type": "stream",
     "text": [
      "Get:1 https://download.docker.com/linux/ubuntu jammy InRelease [48.8 kB]\n",
      "Get:2 http://security.ubuntu.com/ubuntu jammy-security InRelease [129 kB]\n",
      "Hit:3 http://archive.ubuntu.com/ubuntu jammy InRelease\n",
      "Get:4 http://archive.ubuntu.com/ubuntu jammy-updates InRelease [128 kB]\n",
      "Get:5 http://security.ubuntu.com/ubuntu jammy-security/universe amd64 Packages [1243 kB]\n",
      "Hit:6 http://archive.ubuntu.com/ubuntu jammy-backports InRelease\n",
      "Get:7 http://archive.ubuntu.com/ubuntu jammy-updates/universe amd64 Packages [1542 kB]\n",
      "Get:8 http://archive.ubuntu.com/ubuntu jammy-updates/restricted amd64 Packages [4246 kB]\n",
      "Get:9 http://archive.ubuntu.com/ubuntu jammy-updates/main amd64 Packages [3140 kB]\n",
      "Fetched 10.5 MB in 2s (4429 kB/s)\n",
      "Reading package lists...\n",
      "Reading package lists...\n",
      "Building dependency tree...\n",
      "Reading state information...\n",
      "ca-certificates is already the newest version (20240203~22.04.1).\n",
      " (7.81.0-1ubuntu1.20).west version\n",
      "0 upgraded, 0 newly installed, 0 to remove and 17 not upgraded.\n",
      "Hit:1 https://download.docker.com/linux/ubuntu jammy InRelease\n",
      "Hit:2 http://archive.ubuntu.com/ubuntu jammy InRelease\n",
      "Hit:3 http://archive.ubuntu.com/ubuntu jammy-updates InRelease\n",
      "Hit:4 http://archive.ubuntu.com/ubuntu jammy-backports InRelease\n",
      "Hit:5 http://security.ubuntu.com/ubuntu jammy-security InRelease\n",
      "Reading package lists...\n",
      "Reading package lists...\n",
      "Building dependency tree...\n",
      "Reading state information...\n",
      "docker-ce-cli is already the newest version (5:20.10.24~3-0~ubuntu-jammy).\n",
      "already the newest version (2.34.0-1~ubuntu.22.04~jammy).\n",
      " and 16 not upgraded.nstalled, 0 to remove\n",
      "Client:\n",
      " Version:           unknown-version\n",
      " API version:       1.44 (downgraded from 1.47)\n",
      "    go1.23.5    \n",
      " Git commit:        unknown-commit\n",
      " Built:             unknown-buildtime\n",
      "      linux/amd64\n",
      " Context:           default\n",
      "\n",
      "Server:\n",
      " Engine:\n",
      "  Version:          25.0.6\n",
      "  API version:      1.44 (minimum version 1.24)\n",
      "    go1.22.5:   \n",
      "  Git commit:       b08a51f\n",
      "  Built:            Mon Jul 29 17:22:09 2024\n",
      "      linux/amd64\n",
      "  Experimental:     false\n",
      " containerd:\n",
      "  Version:          1.7.23\n",
      "    57f17b0a6295a39009d861b89e3b3b87b005ca27\n",
      " runc:\n",
      "  Version:          1.2.4\n",
      "52b3fc541fb26fe8c374d5f58112a0a5dbda66\n",
      " docker-init:\n",
      "  Version:          0.19.0\n",
      "de40ad0mmit:        \n"
     ]
    }
   ],
   "source": [
    "%%bash\n",
    "\n",
    "# see https://docs.docker.com/engine/install/ubuntu/#install-using-the-repository\n",
    "sudo apt-get update\n",
    "sudo apt-get install -y ca-certificates curl\n",
    "sudo install -m 0755 -d /etc/apt/keyrings\n",
    "sudo curl -fsSL https://download.docker.com/linux/ubuntu/gpg -o /etc/apt/keyrings/docker.asc\n",
    "sudo chmod a+r /etc/apt/keyrings/docker.asc\n",
    "\n",
    "# Add the repository to Apt sources:\n",
    "echo \\\n",
    "  \"deb [arch=$(dpkg --print-architecture) signed-by=/etc/apt/keyrings/docker.asc] https://download.docker.com/linux/ubuntu \\\n",
    "  $(. /etc/os-release && echo \"$VERSION_CODENAME\") stable\" | \\\n",
    "  sudo tee /etc/apt/sources.list.d/docker.list > /dev/null\n",
    "sudo apt-get update\n",
    "\n",
    "## Currently only Docker version 20.10.X is supported in Studio: see https://docs.aws.amazon.com/sagemaker/latest/dg/studio-updated-local.html\n",
    "# pick the latest patch from:\n",
    "# apt-cache madison docker-ce | awk '{ print $3 }' | grep -i 20.10\n",
    "VERSION_STRING=5:20.10.24~3-0~ubuntu-jammy\n",
    "sudo apt-get install docker-ce-cli=$VERSION_STRING docker-compose-plugin -y\n",
    "\n",
    "# validate the Docker Client is able to access Docker Server at [unix:///docker/proxy.sock]\n",
    "docker version\n"
   ]
  },
  {
   "cell_type": "markdown",
   "id": "c3437947-c738-443f-a878-5053930cef33",
   "metadata": {},
   "source": [
    "Lets us now write a `train.py` script to process the training data."
   ]
  },
  {
   "cell_type": "code",
   "execution_count": 21,
   "id": "69f4a75b-4fbc-4310-babd-de7302f65111",
   "metadata": {},
   "outputs": [
    {
     "name": "stdout",
     "output_type": "stream",
     "text": [
      "Overwriting training_code/train.py\n"
     ]
    }
   ],
   "source": [
    "%%writefile training_code/train.py\n",
    "\n",
    "from __future__ import print_function\n",
    "\n",
    "import argparse\n",
    "import os\n",
    "import pandas as pd\n",
    "\n",
    "from sklearn import tree\n",
    "\n",
    "import mlflow\n",
    "from mlflow.models import infer_signature\n",
    "\n",
    "mode = os.environ.get(\"MODE\")\n",
    "if mode is None:\n",
    "    run_name = \"Training\"\n",
    "else:\n",
    "    run_name = \"Local-Training\"\n",
    "\n",
    "if __name__ == '__main__':\n",
    "    parser = argparse.ArgumentParser()\n",
    "\n",
    "    # Hyperparameters are described here. In this simple example we are just including one hyperparameter.\n",
    "    parser.add_argument('--max_leaf_nodes', type=int, default=-1)\n",
    "\n",
    "    # Sagemaker specific arguments. Defaults are set in the environment variables.\n",
    "    parser.add_argument('--output-data-dir', type=str, default=os.environ['SM_OUTPUT_DATA_DIR'])\n",
    "    parser.add_argument('--model-dir', type=str, default=os.environ['SM_MODEL_DIR'])\n",
    "    parser.add_argument('--train', type=str, default=os.environ['SM_CHANNEL_TRAIN'])\n",
    "\n",
    "    args = parser.parse_args()\n",
    "\n",
    "    # Take the set of files and read them all into a single pandas dataframe\n",
    "    input_files = [ os.path.join(args.train, file) for file in os.listdir(args.train) if os.path.isfile(os.path.join(args.train, file))]\n",
    "    if len(input_files) == 0:\n",
    "        raise ValueError(('There are no files in {}.\\n' +\n",
    "                          'This usually indicates that the channel ({}) was incorrectly specified,\\n' +\n",
    "                          'the data specification in S3 was incorrectly specified or the role specified\\n' +\n",
    "                          'does not have permission to access the data.').format(args.train, \"train\"))\n",
    "    raw_data = [ pd.read_csv(file, header=None, engine=\"python\") for file in input_files ]\n",
    "    train_data = pd.concat(raw_data)\n",
    "    \n",
    "    # Enable autologging in MLflow for SKlearn\n",
    "    mlflow.sklearn.autolog()\n",
    "\n",
    "    with mlflow.start_run(run_name=run_name) as run:\n",
    "        # labels are in the first column\n",
    "        train_y = train_data.iloc[:, 0]\n",
    "        train_X = train_data.iloc[:, 1:]\n",
    "    \n",
    "        # Here we support a single hyperparameter, 'max_leaf_nodes'. Note that you can add as many\n",
    "        # as your training my require in the ArgumentParser above.\n",
    "        max_leaf_nodes = args.max_leaf_nodes\n",
    "    \n",
    "        # Now use scikit-learn's decision tree classifier to train the model.\n",
    "        clf = tree.DecisionTreeClassifier(max_leaf_nodes=max_leaf_nodes)\n",
    "        clf = clf.fit(train_X, train_y)\n",
    "    \n",
    "        predictions = clf.predict(train_X)\n",
    "        signature = infer_signature(train_X, predictions)\n",
    "\n",
    "        mlflow.set_tags(\n",
    "            {\n",
    "                'mlflow.source.name': \"training_code/train.py\",\n",
    "                'mlflow.source.type': 'JOB',\n",
    "            }\n",
    "        )\n",
    "    \n",
    "        mlflow.sklearn.log_model(clf, \"model\", signature=signature)\n"
   ]
  },
  {
   "cell_type": "markdown",
   "id": "4b4fb500-1334-4053-b721-9ad0a7038ba2",
   "metadata": {},
   "source": [
    "## SageMaker Local Model\n",
    "\n",
    "Run in local mode and log to the MLflow tracking server"
   ]
  },
  {
   "cell_type": "code",
   "execution_count": 22,
   "id": "de2e0d44-5f36-453b-8e85-dc0fefcaf165",
   "metadata": {},
   "outputs": [
    {
     "data": {
      "text/html": [
       "<pre style=\"white-space:pre;overflow-x:auto;line-height:normal;font-family:Menlo,'DejaVu Sans Mono',consolas,'Courier New',monospace\"><span style=\"color: #7fbfbf; text-decoration-color: #7fbfbf\">[04/17/25 12:44:40] </span><span style=\"color: #0069ff; text-decoration-color: #0069ff; font-weight: bold\">INFO    </span> SageMaker Python SDK will collect telemetry to help us better  <a href=\"file:///opt/conda/lib/python3.11/site-packages/sagemaker/telemetry/telemetry_logging.py\" target=\"_blank\"><span style=\"color: #7f7f7f; text-decoration-color: #7f7f7f\">telemetry_logging.py</span></a><span style=\"color: #7f7f7f; text-decoration-color: #7f7f7f\">:</span><a href=\"file:///opt/conda/lib/python3.11/site-packages/sagemaker/telemetry/telemetry_logging.py#91\" target=\"_blank\"><span style=\"color: #7f7f7f; text-decoration-color: #7f7f7f\">91</span></a>\n",
       "<span style=\"color: #7fbfbf; text-decoration-color: #7fbfbf\">                    </span>         understand our user's needs, diagnose issues, and deliver      <span style=\"color: #7f7f7f; text-decoration-color: #7f7f7f\">                       </span>\n",
       "<span style=\"color: #7fbfbf; text-decoration-color: #7fbfbf\">                    </span>         additional features.                                           <span style=\"color: #7f7f7f; text-decoration-color: #7f7f7f\">                       </span>\n",
       "<span style=\"color: #7fbfbf; text-decoration-color: #7fbfbf\">                    </span>         To opt out of telemetry, please disable via TelemetryOptOut    <span style=\"color: #7f7f7f; text-decoration-color: #7f7f7f\">                       </span>\n",
       "<span style=\"color: #7fbfbf; text-decoration-color: #7fbfbf\">                    </span>         parameter in SDK defaults config. For more information, refer  <span style=\"color: #7f7f7f; text-decoration-color: #7f7f7f\">                       </span>\n",
       "<span style=\"color: #7fbfbf; text-decoration-color: #7fbfbf\">                    </span>         to                                                             <span style=\"color: #7f7f7f; text-decoration-color: #7f7f7f\">                       </span>\n",
       "<span style=\"color: #7fbfbf; text-decoration-color: #7fbfbf\">                    </span>         <span style=\"color: #0069ff; text-decoration-color: #0069ff; text-decoration: underline\">https://sagemaker.readthedocs.io/en/stable/overview.html#confi</span> <span style=\"color: #7f7f7f; text-decoration-color: #7f7f7f\">                       </span>\n",
       "<span style=\"color: #7fbfbf; text-decoration-color: #7fbfbf\">                    </span>         <span style=\"color: #0069ff; text-decoration-color: #0069ff; text-decoration: underline\">guring-and-using-defaults-with-the-sagemaker-python-sdk.</span>       <span style=\"color: #7f7f7f; text-decoration-color: #7f7f7f\">                       </span>\n",
       "</pre>\n"
      ],
      "text/plain": [
       "\u001b[2;36m[04/17/25 12:44:40]\u001b[0m\u001b[2;36m \u001b[0m\u001b[1;38;2;0;105;255mINFO    \u001b[0m SageMaker Python SDK will collect telemetry to help us better  \u001b]8;id=361247;file:///opt/conda/lib/python3.11/site-packages/sagemaker/telemetry/telemetry_logging.py\u001b\\\u001b[2mtelemetry_logging.py\u001b[0m\u001b]8;;\u001b\\\u001b[2m:\u001b[0m\u001b]8;id=967432;file:///opt/conda/lib/python3.11/site-packages/sagemaker/telemetry/telemetry_logging.py#91\u001b\\\u001b[2m91\u001b[0m\u001b]8;;\u001b\\\n",
       "\u001b[2;36m                    \u001b[0m         understand our user's needs, diagnose issues, and deliver      \u001b[2m                       \u001b[0m\n",
       "\u001b[2;36m                    \u001b[0m         additional features.                                           \u001b[2m                       \u001b[0m\n",
       "\u001b[2;36m                    \u001b[0m         To opt out of telemetry, please disable via TelemetryOptOut    \u001b[2m                       \u001b[0m\n",
       "\u001b[2;36m                    \u001b[0m         parameter in SDK defaults config. For more information, refer  \u001b[2m                       \u001b[0m\n",
       "\u001b[2;36m                    \u001b[0m         to                                                             \u001b[2m                       \u001b[0m\n",
       "\u001b[2;36m                    \u001b[0m         \u001b[4;38;2;0;105;255mhttps://sagemaker.readthedocs.io/en/stable/overview.html#confi\u001b[0m \u001b[2m                       \u001b[0m\n",
       "\u001b[2;36m                    \u001b[0m         \u001b[4;38;2;0;105;255mguring-and-using-defaults-with-the-sagemaker-python-sdk.\u001b[0m       \u001b[2m                       \u001b[0m\n"
      ]
     },
     "metadata": {},
     "output_type": "display_data"
    },
    {
     "data": {
      "text/html": [
       "<pre style=\"white-space:pre;overflow-x:auto;line-height:normal;font-family:Menlo,'DejaVu Sans Mono',consolas,'Courier New',monospace\"><span style=\"color: #7fbfbf; text-decoration-color: #7fbfbf\">                    </span><span style=\"color: #0069ff; text-decoration-color: #0069ff; font-weight: bold\">INFO    </span> Creating training-job with name:                                       <a href=\"file:///opt/conda/lib/python3.11/site-packages/sagemaker/session.py\" target=\"_blank\"><span style=\"color: #7f7f7f; text-decoration-color: #7f7f7f\">session.py</span></a><span style=\"color: #7f7f7f; text-decoration-color: #7f7f7f\">:</span><a href=\"file:///opt/conda/lib/python3.11/site-packages/sagemaker/session.py#1042\" target=\"_blank\"><span style=\"color: #7f7f7f; text-decoration-color: #7f7f7f\">1042</span></a>\n",
       "<span style=\"color: #7fbfbf; text-decoration-color: #7fbfbf\">                    </span>         sagemaker-scikit-learn-<span style=\"color: #008080; text-decoration-color: #008080; font-weight: bold\">2025</span>-04-17-12-44-40-253                         <span style=\"color: #7f7f7f; text-decoration-color: #7f7f7f\">               </span>\n",
       "</pre>\n"
      ],
      "text/plain": [
       "\u001b[2;36m                   \u001b[0m\u001b[2;36m \u001b[0m\u001b[1;38;2;0;105;255mINFO    \u001b[0m Creating training-job with name:                                       \u001b]8;id=887586;file:///opt/conda/lib/python3.11/site-packages/sagemaker/session.py\u001b\\\u001b[2msession.py\u001b[0m\u001b]8;;\u001b\\\u001b[2m:\u001b[0m\u001b]8;id=123481;file:///opt/conda/lib/python3.11/site-packages/sagemaker/session.py#1042\u001b\\\u001b[2m1042\u001b[0m\u001b]8;;\u001b\\\n",
       "\u001b[2;36m                    \u001b[0m         sagemaker-scikit-learn-\u001b[1;36m2025\u001b[0m-04-17-12-44-40-253                         \u001b[2m               \u001b[0m\n"
      ]
     },
     "metadata": {},
     "output_type": "display_data"
    },
    {
     "data": {
      "text/html": [
       "<pre style=\"white-space:pre;overflow-x:auto;line-height:normal;font-family:Menlo,'DejaVu Sans Mono',consolas,'Courier New',monospace\"><span style=\"color: #7fbfbf; text-decoration-color: #7fbfbf\">                    </span><span style=\"color: #0069ff; text-decoration-color: #0069ff; font-weight: bold\">INFO    </span> SageMaker Python SDK will collect telemetry to help us better  <a href=\"file:///opt/conda/lib/python3.11/site-packages/sagemaker/telemetry/telemetry_logging.py\" target=\"_blank\"><span style=\"color: #7f7f7f; text-decoration-color: #7f7f7f\">telemetry_logging.py</span></a><span style=\"color: #7f7f7f; text-decoration-color: #7f7f7f\">:</span><a href=\"file:///opt/conda/lib/python3.11/site-packages/sagemaker/telemetry/telemetry_logging.py#91\" target=\"_blank\"><span style=\"color: #7f7f7f; text-decoration-color: #7f7f7f\">91</span></a>\n",
       "<span style=\"color: #7fbfbf; text-decoration-color: #7fbfbf\">                    </span>         understand our user's needs, diagnose issues, and deliver      <span style=\"color: #7f7f7f; text-decoration-color: #7f7f7f\">                       </span>\n",
       "<span style=\"color: #7fbfbf; text-decoration-color: #7fbfbf\">                    </span>         additional features.                                           <span style=\"color: #7f7f7f; text-decoration-color: #7f7f7f\">                       </span>\n",
       "<span style=\"color: #7fbfbf; text-decoration-color: #7fbfbf\">                    </span>         To opt out of telemetry, please disable via TelemetryOptOut    <span style=\"color: #7f7f7f; text-decoration-color: #7f7f7f\">                       </span>\n",
       "<span style=\"color: #7fbfbf; text-decoration-color: #7fbfbf\">                    </span>         parameter in SDK defaults config. For more information, refer  <span style=\"color: #7f7f7f; text-decoration-color: #7f7f7f\">                       </span>\n",
       "<span style=\"color: #7fbfbf; text-decoration-color: #7fbfbf\">                    </span>         to                                                             <span style=\"color: #7f7f7f; text-decoration-color: #7f7f7f\">                       </span>\n",
       "<span style=\"color: #7fbfbf; text-decoration-color: #7fbfbf\">                    </span>         <span style=\"color: #0069ff; text-decoration-color: #0069ff; text-decoration: underline\">https://sagemaker.readthedocs.io/en/stable/overview.html#confi</span> <span style=\"color: #7f7f7f; text-decoration-color: #7f7f7f\">                       </span>\n",
       "<span style=\"color: #7fbfbf; text-decoration-color: #7fbfbf\">                    </span>         <span style=\"color: #0069ff; text-decoration-color: #0069ff; text-decoration: underline\">guring-and-using-defaults-with-the-sagemaker-python-sdk.</span>       <span style=\"color: #7f7f7f; text-decoration-color: #7f7f7f\">                       </span>\n",
       "</pre>\n"
      ],
      "text/plain": [
       "\u001b[2;36m                   \u001b[0m\u001b[2;36m \u001b[0m\u001b[1;38;2;0;105;255mINFO    \u001b[0m SageMaker Python SDK will collect telemetry to help us better  \u001b]8;id=781622;file:///opt/conda/lib/python3.11/site-packages/sagemaker/telemetry/telemetry_logging.py\u001b\\\u001b[2mtelemetry_logging.py\u001b[0m\u001b]8;;\u001b\\\u001b[2m:\u001b[0m\u001b]8;id=390365;file:///opt/conda/lib/python3.11/site-packages/sagemaker/telemetry/telemetry_logging.py#91\u001b\\\u001b[2m91\u001b[0m\u001b]8;;\u001b\\\n",
       "\u001b[2;36m                    \u001b[0m         understand our user's needs, diagnose issues, and deliver      \u001b[2m                       \u001b[0m\n",
       "\u001b[2;36m                    \u001b[0m         additional features.                                           \u001b[2m                       \u001b[0m\n",
       "\u001b[2;36m                    \u001b[0m         To opt out of telemetry, please disable via TelemetryOptOut    \u001b[2m                       \u001b[0m\n",
       "\u001b[2;36m                    \u001b[0m         parameter in SDK defaults config. For more information, refer  \u001b[2m                       \u001b[0m\n",
       "\u001b[2;36m                    \u001b[0m         to                                                             \u001b[2m                       \u001b[0m\n",
       "\u001b[2;36m                    \u001b[0m         \u001b[4;38;2;0;105;255mhttps://sagemaker.readthedocs.io/en/stable/overview.html#confi\u001b[0m \u001b[2m                       \u001b[0m\n",
       "\u001b[2;36m                    \u001b[0m         \u001b[4;38;2;0;105;255mguring-and-using-defaults-with-the-sagemaker-python-sdk.\u001b[0m       \u001b[2m                       \u001b[0m\n"
      ]
     },
     "metadata": {},
     "output_type": "display_data"
    },
    {
     "data": {
      "text/html": [
       "<pre style=\"white-space:pre;overflow-x:auto;line-height:normal;font-family:Menlo,'DejaVu Sans Mono',consolas,'Courier New',monospace\"><span style=\"color: #7fbfbf; text-decoration-color: #7fbfbf\">                    </span><span style=\"color: #0069ff; text-decoration-color: #0069ff; font-weight: bold\">INFO    </span> <span style=\"color: #008700; text-decoration-color: #008700\">'Docker Compose'</span> found using Docker CLI.                                  <a href=\"file:///opt/conda/lib/python3.11/site-packages/sagemaker/local/image.py\" target=\"_blank\"><span style=\"color: #7f7f7f; text-decoration-color: #7f7f7f\">image.py</span></a><span style=\"color: #7f7f7f; text-decoration-color: #7f7f7f\">:</span><a href=\"file:///opt/conda/lib/python3.11/site-packages/sagemaker/local/image.py#168\" target=\"_blank\"><span style=\"color: #7f7f7f; text-decoration-color: #7f7f7f\">168</span></a>\n",
       "</pre>\n"
      ],
      "text/plain": [
       "\u001b[2;36m                   \u001b[0m\u001b[2;36m \u001b[0m\u001b[1;38;2;0;105;255mINFO    \u001b[0m \u001b[38;2;0;135;0m'Docker Compose'\u001b[0m found using Docker CLI.                                  \u001b]8;id=937070;file:///opt/conda/lib/python3.11/site-packages/sagemaker/local/image.py\u001b\\\u001b[2mimage.py\u001b[0m\u001b]8;;\u001b\\\u001b[2m:\u001b[0m\u001b]8;id=728524;file:///opt/conda/lib/python3.11/site-packages/sagemaker/local/image.py#168\u001b\\\u001b[2m168\u001b[0m\u001b]8;;\u001b\\\n"
      ]
     },
     "metadata": {},
     "output_type": "display_data"
    },
    {
     "data": {
      "text/html": [
       "<pre style=\"white-space:pre;overflow-x:auto;line-height:normal;font-family:Menlo,'DejaVu Sans Mono',consolas,'Courier New',monospace\"><span style=\"color: #7fbfbf; text-decoration-color: #7fbfbf\">                    </span><span style=\"color: #0069ff; text-decoration-color: #0069ff; font-weight: bold\">INFO    </span> Starting training job                                             <a href=\"file:///opt/conda/lib/python3.11/site-packages/sagemaker/local/local_session.py\" target=\"_blank\"><span style=\"color: #7f7f7f; text-decoration-color: #7f7f7f\">local_session.py</span></a><span style=\"color: #7f7f7f; text-decoration-color: #7f7f7f\">:</span><a href=\"file:///opt/conda/lib/python3.11/site-packages/sagemaker/local/local_session.py#215\" target=\"_blank\"><span style=\"color: #7f7f7f; text-decoration-color: #7f7f7f\">215</span></a>\n",
       "</pre>\n"
      ],
      "text/plain": [
       "\u001b[2;36m                   \u001b[0m\u001b[2;36m \u001b[0m\u001b[1;38;2;0;105;255mINFO    \u001b[0m Starting training job                                             \u001b]8;id=316945;file:///opt/conda/lib/python3.11/site-packages/sagemaker/local/local_session.py\u001b\\\u001b[2mlocal_session.py\u001b[0m\u001b]8;;\u001b\\\u001b[2m:\u001b[0m\u001b]8;id=501306;file:///opt/conda/lib/python3.11/site-packages/sagemaker/local/local_session.py#215\u001b\\\u001b[2m215\u001b[0m\u001b]8;;\u001b\\\n"
      ]
     },
     "metadata": {},
     "output_type": "display_data"
    },
    {
     "data": {
      "text/html": [
       "<pre style=\"white-space:pre;overflow-x:auto;line-height:normal;font-family:Menlo,'DejaVu Sans Mono',consolas,'Courier New',monospace\"><span style=\"color: #7fbfbf; text-decoration-color: #7fbfbf\">                    </span><span style=\"color: #d7af00; text-decoration-color: #d7af00; font-weight: bold\">WARNING </span> Using the short-lived AWS credentials found in session. They might       <a href=\"file:///opt/conda/lib/python3.11/site-packages/sagemaker/local/image.py\" target=\"_blank\"><span style=\"color: #7f7f7f; text-decoration-color: #7f7f7f\">image.py</span></a><span style=\"color: #7f7f7f; text-decoration-color: #7f7f7f\">:</span><a href=\"file:///opt/conda/lib/python3.11/site-packages/sagemaker/local/image.py#1132\" target=\"_blank\"><span style=\"color: #7f7f7f; text-decoration-color: #7f7f7f\">1132</span></a>\n",
       "<span style=\"color: #7fbfbf; text-decoration-color: #7fbfbf\">                    </span>         expire while running.                                                    <span style=\"color: #7f7f7f; text-decoration-color: #7f7f7f\">             </span>\n",
       "</pre>\n"
      ],
      "text/plain": [
       "\u001b[2;36m                   \u001b[0m\u001b[2;36m \u001b[0m\u001b[1;38;2;215;175;0mWARNING \u001b[0m Using the short-lived AWS credentials found in session. They might       \u001b]8;id=57609;file:///opt/conda/lib/python3.11/site-packages/sagemaker/local/image.py\u001b\\\u001b[2mimage.py\u001b[0m\u001b]8;;\u001b\\\u001b[2m:\u001b[0m\u001b]8;id=615463;file:///opt/conda/lib/python3.11/site-packages/sagemaker/local/image.py#1132\u001b\\\u001b[2m1132\u001b[0m\u001b]8;;\u001b\\\n",
       "\u001b[2;36m                    \u001b[0m         expire while running.                                                    \u001b[2m             \u001b[0m\n"
      ]
     },
     "metadata": {},
     "output_type": "display_data"
    },
    {
     "data": {
      "text/html": [
       "<pre style=\"white-space:pre;overflow-x:auto;line-height:normal;font-family:Menlo,'DejaVu Sans Mono',consolas,'Courier New',monospace\"><span style=\"color: #7fbfbf; text-decoration-color: #7fbfbf\">                    </span><span style=\"color: #0069ff; text-decoration-color: #0069ff; font-weight: bold\">INFO    </span> docker compose file:                                                      <a href=\"file:///opt/conda/lib/python3.11/site-packages/sagemaker/local/image.py\" target=\"_blank\"><span style=\"color: #7f7f7f; text-decoration-color: #7f7f7f\">image.py</span></a><span style=\"color: #7f7f7f; text-decoration-color: #7f7f7f\">:</span><a href=\"file:///opt/conda/lib/python3.11/site-packages/sagemaker/local/image.py#781\" target=\"_blank\"><span style=\"color: #7f7f7f; text-decoration-color: #7f7f7f\">781</span></a>\n",
       "<span style=\"color: #7fbfbf; text-decoration-color: #7fbfbf\">                    </span>         services:                                                                 <span style=\"color: #7f7f7f; text-decoration-color: #7f7f7f\">            </span>\n",
       "<span style=\"color: #7fbfbf; text-decoration-color: #7fbfbf\">                    </span>           sagemaker-local:                                                        <span style=\"color: #7f7f7f; text-decoration-color: #7f7f7f\">            </span>\n",
       "<span style=\"color: #7fbfbf; text-decoration-color: #7fbfbf\">                    </span>             command: train                                                        <span style=\"color: #7f7f7f; text-decoration-color: #7f7f7f\">            </span>\n",
       "<span style=\"color: #7fbfbf; text-decoration-color: #7fbfbf\">                    </span>             container_name: bmih9eetdw-sagemaker-local                            <span style=\"color: #7f7f7f; text-decoration-color: #7f7f7f\">            </span>\n",
       "<span style=\"color: #7fbfbf; text-decoration-color: #7fbfbf\">                    </span>             environment:                                                          <span style=\"color: #7f7f7f; text-decoration-color: #7f7f7f\">            </span>\n",
       "<span style=\"color: #7fbfbf; text-decoration-color: #7fbfbf\">                    </span>             - <span style=\"color: #008700; text-decoration-color: #008700\">'</span><span style=\"color: #008700; text-decoration-color: #008700; font-weight: bold\">[</span><span style=\"color: #008700; text-decoration-color: #008700\">Masked</span><span style=\"color: #008700; text-decoration-color: #008700; font-weight: bold\">]</span><span style=\"color: #008700; text-decoration-color: #008700\">'</span>                                                          <span style=\"color: #7f7f7f; text-decoration-color: #7f7f7f\">            </span>\n",
       "<span style=\"color: #7fbfbf; text-decoration-color: #7fbfbf\">                    </span>             - <span style=\"color: #008700; text-decoration-color: #008700\">'</span><span style=\"color: #008700; text-decoration-color: #008700; font-weight: bold\">[</span><span style=\"color: #008700; text-decoration-color: #008700\">Masked</span><span style=\"color: #008700; text-decoration-color: #008700; font-weight: bold\">]</span><span style=\"color: #008700; text-decoration-color: #008700\">'</span>                                                          <span style=\"color: #7f7f7f; text-decoration-color: #7f7f7f\">            </span>\n",
       "<span style=\"color: #7fbfbf; text-decoration-color: #7fbfbf\">                    </span>             - <span style=\"color: #008700; text-decoration-color: #008700\">'</span><span style=\"color: #008700; text-decoration-color: #008700; font-weight: bold\">[</span><span style=\"color: #008700; text-decoration-color: #008700\">Masked</span><span style=\"color: #008700; text-decoration-color: #008700; font-weight: bold\">]</span><span style=\"color: #008700; text-decoration-color: #008700\">'</span>                                                          <span style=\"color: #7f7f7f; text-decoration-color: #7f7f7f\">            </span>\n",
       "<span style=\"color: #7fbfbf; text-decoration-color: #7fbfbf\">                    </span>             - <span style=\"color: #008700; text-decoration-color: #008700\">'</span><span style=\"color: #008700; text-decoration-color: #008700; font-weight: bold\">[</span><span style=\"color: #008700; text-decoration-color: #008700\">Masked</span><span style=\"color: #008700; text-decoration-color: #008700; font-weight: bold\">]</span><span style=\"color: #008700; text-decoration-color: #008700\">'</span>                                                          <span style=\"color: #7f7f7f; text-decoration-color: #7f7f7f\">            </span>\n",
       "<span style=\"color: #7fbfbf; text-decoration-color: #7fbfbf\">                    </span>             - <span style=\"color: #008700; text-decoration-color: #008700\">'</span><span style=\"color: #008700; text-decoration-color: #008700; font-weight: bold\">[</span><span style=\"color: #008700; text-decoration-color: #008700\">Masked</span><span style=\"color: #008700; text-decoration-color: #008700; font-weight: bold\">]</span><span style=\"color: #008700; text-decoration-color: #008700\">'</span>                                                          <span style=\"color: #7f7f7f; text-decoration-color: #7f7f7f\">            </span>\n",
       "<span style=\"color: #7fbfbf; text-decoration-color: #7fbfbf\">                    </span>             - <span style=\"color: #008700; text-decoration-color: #008700\">'</span><span style=\"color: #008700; text-decoration-color: #008700; font-weight: bold\">[</span><span style=\"color: #008700; text-decoration-color: #008700\">Masked</span><span style=\"color: #008700; text-decoration-color: #008700; font-weight: bold\">]</span><span style=\"color: #008700; text-decoration-color: #008700\">'</span>                                                          <span style=\"color: #7f7f7f; text-decoration-color: #7f7f7f\">            </span>\n",
       "<span style=\"color: #7fbfbf; text-decoration-color: #7fbfbf\">                    </span>             - <span style=\"color: #008700; text-decoration-color: #008700\">'</span><span style=\"color: #008700; text-decoration-color: #008700; font-weight: bold\">[</span><span style=\"color: #008700; text-decoration-color: #008700\">Masked</span><span style=\"color: #008700; text-decoration-color: #008700; font-weight: bold\">]</span><span style=\"color: #008700; text-decoration-color: #008700\">'</span>                                                          <span style=\"color: #7f7f7f; text-decoration-color: #7f7f7f\">            </span>\n",
       "<span style=\"color: #7fbfbf; text-decoration-color: #7fbfbf\">                    </span>             - <span style=\"color: #008700; text-decoration-color: #008700\">'</span><span style=\"color: #008700; text-decoration-color: #008700; font-weight: bold\">[</span><span style=\"color: #008700; text-decoration-color: #008700\">Masked</span><span style=\"color: #008700; text-decoration-color: #008700; font-weight: bold\">]</span><span style=\"color: #008700; text-decoration-color: #008700\">'</span>                                                          <span style=\"color: #7f7f7f; text-decoration-color: #7f7f7f\">            </span>\n",
       "<span style=\"color: #7fbfbf; text-decoration-color: #7fbfbf\">                    </span>             - <span style=\"color: #008700; text-decoration-color: #008700\">'</span><span style=\"color: #008700; text-decoration-color: #008700; font-weight: bold\">[</span><span style=\"color: #008700; text-decoration-color: #008700\">Masked</span><span style=\"color: #008700; text-decoration-color: #008700; font-weight: bold\">]</span><span style=\"color: #008700; text-decoration-color: #008700\">'</span>                                                          <span style=\"color: #7f7f7f; text-decoration-color: #7f7f7f\">            </span>\n",
       "<span style=\"color: #7fbfbf; text-decoration-color: #7fbfbf\">                    </span>             - <span style=\"color: #008700; text-decoration-color: #008700\">'</span><span style=\"color: #008700; text-decoration-color: #008700; font-weight: bold\">[</span><span style=\"color: #008700; text-decoration-color: #008700\">Masked</span><span style=\"color: #008700; text-decoration-color: #008700; font-weight: bold\">]</span><span style=\"color: #008700; text-decoration-color: #008700\">'</span>                                                          <span style=\"color: #7f7f7f; text-decoration-color: #7f7f7f\">            </span>\n",
       "<span style=\"color: #7fbfbf; text-decoration-color: #7fbfbf\">                    </span>             - <span style=\"color: #008700; text-decoration-color: #008700\">'</span><span style=\"color: #008700; text-decoration-color: #008700; font-weight: bold\">[</span><span style=\"color: #008700; text-decoration-color: #008700\">Masked</span><span style=\"color: #008700; text-decoration-color: #008700; font-weight: bold\">]</span><span style=\"color: #008700; text-decoration-color: #008700\">'</span>                                                          <span style=\"color: #7f7f7f; text-decoration-color: #7f7f7f\">            </span>\n",
       "<span style=\"color: #7fbfbf; text-decoration-color: #7fbfbf\">                    </span>             image:                                                                <span style=\"color: #7f7f7f; text-decoration-color: #7f7f7f\">            </span>\n",
       "<span style=\"color: #7fbfbf; text-decoration-color: #7fbfbf\">                    </span>         <span style=\"color: #008080; text-decoration-color: #008080; font-weight: bold\">246618743249.</span>dkr.ecr.us-west-<span style=\"color: #008080; text-decoration-color: #008080; font-weight: bold\">2.</span>amazonaws.com/sagemaker-scikit-learn:<span style=\"color: #008080; text-decoration-color: #008080; font-weight: bold\">1.2</span>-<span style=\"color: #008080; text-decoration-color: #008080; font-weight: bold\">1</span> <span style=\"color: #7f7f7f; text-decoration-color: #7f7f7f\">            </span>\n",
       "<span style=\"color: #7fbfbf; text-decoration-color: #7fbfbf\">                    </span>         -cpu-py3                                                                  <span style=\"color: #7f7f7f; text-decoration-color: #7f7f7f\">            </span>\n",
       "<span style=\"color: #7fbfbf; text-decoration-color: #7fbfbf\">                    </span>             network_mode: sagemaker                                               <span style=\"color: #7f7f7f; text-decoration-color: #7f7f7f\">            </span>\n",
       "<span style=\"color: #7fbfbf; text-decoration-color: #7fbfbf\">                    </span>             stdin_open: true                                                      <span style=\"color: #7f7f7f; text-decoration-color: #7f7f7f\">            </span>\n",
       "<span style=\"color: #7fbfbf; text-decoration-color: #7fbfbf\">                    </span>             tty: true                                                             <span style=\"color: #7f7f7f; text-decoration-color: #7f7f7f\">            </span>\n",
       "<span style=\"color: #7fbfbf; text-decoration-color: #7fbfbf\">                    </span>             volumes:                                                              <span style=\"color: #7f7f7f; text-decoration-color: #7f7f7f\">            </span>\n",
       "<span style=\"color: #7fbfbf; text-decoration-color: #7fbfbf\">                    </span>             -                                                                     <span style=\"color: #7f7f7f; text-decoration-color: #7f7f7f\">            </span>\n",
       "<span style=\"color: #7fbfbf; text-decoration-color: #7fbfbf\">                    </span>         <span style=\"color: #e100e1; text-decoration-color: #e100e1\">/home/sagemaker-user/tmp/tmp8rn75x00/sagemaker-local/output</span>:<span style=\"color: #e100e1; text-decoration-color: #e100e1\">/opt/ml/outpu</span> <span style=\"color: #7f7f7f; text-decoration-color: #7f7f7f\">            </span>\n",
       "<span style=\"color: #7fbfbf; text-decoration-color: #7fbfbf\">                    </span>         <span style=\"color: #e100e1; text-decoration-color: #e100e1\">t</span>                                                                         <span style=\"color: #7f7f7f; text-decoration-color: #7f7f7f\">            </span>\n",
       "<span style=\"color: #7fbfbf; text-decoration-color: #7fbfbf\">                    </span>             -                                                                     <span style=\"color: #7f7f7f; text-decoration-color: #7f7f7f\">            </span>\n",
       "<span style=\"color: #7fbfbf; text-decoration-color: #7fbfbf\">                    </span>         <span style=\"color: #e100e1; text-decoration-color: #e100e1\">/home/sagemaker-user/tmp/tmp8rn75x00/sagemaker-local/input</span>:<span style=\"color: #e100e1; text-decoration-color: #e100e1\">/opt/ml/input</span>  <span style=\"color: #7f7f7f; text-decoration-color: #7f7f7f\">            </span>\n",
       "<span style=\"color: #7fbfbf; text-decoration-color: #7fbfbf\">                    </span>             -                                                                     <span style=\"color: #7f7f7f; text-decoration-color: #7f7f7f\">            </span>\n",
       "<span style=\"color: #7fbfbf; text-decoration-color: #7fbfbf\">                    </span>         <span style=\"color: #e100e1; text-decoration-color: #e100e1\">/home/sagemaker-user/tmp/tmp8rn75x00/sagemaker-local/output/data</span>:<span style=\"color: #e100e1; text-decoration-color: #e100e1\">/opt/ml/</span> <span style=\"color: #7f7f7f; text-decoration-color: #7f7f7f\">            </span>\n",
       "<span style=\"color: #7fbfbf; text-decoration-color: #7fbfbf\">                    </span>         <span style=\"color: #e100e1; text-decoration-color: #e100e1\">output/data</span>                                                               <span style=\"color: #7f7f7f; text-decoration-color: #7f7f7f\">            </span>\n",
       "<span style=\"color: #7fbfbf; text-decoration-color: #7fbfbf\">                    </span>             - <span style=\"color: #e100e1; text-decoration-color: #e100e1\">/home/sagemaker-user/tmp/tmp8rn75x00/model</span>:<span style=\"color: #e100e1; text-decoration-color: #e100e1\">/opt/ml/model</span>            <span style=\"color: #7f7f7f; text-decoration-color: #7f7f7f\">            </span>\n",
       "<span style=\"color: #7fbfbf; text-decoration-color: #7fbfbf\">                    </span>             - <span style=\"color: #e100e1; text-decoration-color: #e100e1\">/opt/ml/metadata</span>:<span style=\"color: #e100e1; text-decoration-color: #e100e1\">/opt/ml/metadata</span>                                   <span style=\"color: #7f7f7f; text-decoration-color: #7f7f7f\">            </span>\n",
       "<span style=\"color: #7fbfbf; text-decoration-color: #7fbfbf\">                    </span>             - <span style=\"color: #e100e1; text-decoration-color: #e100e1\">/home/sagemaker-user/tmp/tmp9fia63fa</span>:<span style=\"color: #e100e1; text-decoration-color: #e100e1\">/opt/ml/input/data/train</span>       <span style=\"color: #7f7f7f; text-decoration-color: #7f7f7f\">            </span>\n",
       "<span style=\"color: #7fbfbf; text-decoration-color: #7fbfbf\">                    </span>             -                                                                     <span style=\"color: #7f7f7f; text-decoration-color: #7f7f7f\">            </span>\n",
       "<span style=\"color: #7fbfbf; text-decoration-color: #7fbfbf\">                    </span>         <span style=\"color: #e100e1; text-decoration-color: #e100e1\">/home/sagemaker-user/amazon-sagemaker-immersion-day/experiment-tracking/t</span> <span style=\"color: #7f7f7f; text-decoration-color: #7f7f7f\">            </span>\n",
       "<span style=\"color: #7fbfbf; text-decoration-color: #7fbfbf\">                    </span>         <span style=\"color: #e100e1; text-decoration-color: #e100e1\">raining_code</span>:<span style=\"color: #e100e1; text-decoration-color: #e100e1\">/opt/ml/code</span>                                                 <span style=\"color: #7f7f7f; text-decoration-color: #7f7f7f\">            </span>\n",
       "<span style=\"color: #7fbfbf; text-decoration-color: #7fbfbf\">                    </span>             - <span style=\"color: #e100e1; text-decoration-color: #e100e1\">/home/sagemaker-user/tmp/tmp8rn75x00/shared</span>:<span style=\"color: #e100e1; text-decoration-color: #e100e1\">/opt/ml/shared</span>          <span style=\"color: #7f7f7f; text-decoration-color: #7f7f7f\">            </span>\n",
       "<span style=\"color: #7fbfbf; text-decoration-color: #7fbfbf\">                    </span>         version: <span style=\"color: #008700; text-decoration-color: #008700\">'2.3'</span>                                                            <span style=\"color: #7f7f7f; text-decoration-color: #7f7f7f\">            </span>\n",
       "<span style=\"color: #7fbfbf; text-decoration-color: #7fbfbf\">                    </span>                                                                                   <span style=\"color: #7f7f7f; text-decoration-color: #7f7f7f\">            </span>\n",
       "</pre>\n"
      ],
      "text/plain": [
       "\u001b[2;36m                   \u001b[0m\u001b[2;36m \u001b[0m\u001b[1;38;2;0;105;255mINFO    \u001b[0m docker compose file:                                                      \u001b]8;id=254432;file:///opt/conda/lib/python3.11/site-packages/sagemaker/local/image.py\u001b\\\u001b[2mimage.py\u001b[0m\u001b]8;;\u001b\\\u001b[2m:\u001b[0m\u001b]8;id=900115;file:///opt/conda/lib/python3.11/site-packages/sagemaker/local/image.py#781\u001b\\\u001b[2m781\u001b[0m\u001b]8;;\u001b\\\n",
       "\u001b[2;36m                    \u001b[0m         services:                                                                 \u001b[2m            \u001b[0m\n",
       "\u001b[2;36m                    \u001b[0m           sagemaker-local:                                                        \u001b[2m            \u001b[0m\n",
       "\u001b[2;36m                    \u001b[0m             command: train                                                        \u001b[2m            \u001b[0m\n",
       "\u001b[2;36m                    \u001b[0m             container_name: bmih9eetdw-sagemaker-local                            \u001b[2m            \u001b[0m\n",
       "\u001b[2;36m                    \u001b[0m             environment:                                                          \u001b[2m            \u001b[0m\n",
       "\u001b[2;36m                    \u001b[0m             - \u001b[38;2;0;135;0m'\u001b[0m\u001b[1;38;2;0;135;0m[\u001b[0m\u001b[38;2;0;135;0mMasked\u001b[0m\u001b[1;38;2;0;135;0m]\u001b[0m\u001b[38;2;0;135;0m'\u001b[0m                                                          \u001b[2m            \u001b[0m\n",
       "\u001b[2;36m                    \u001b[0m             - \u001b[38;2;0;135;0m'\u001b[0m\u001b[1;38;2;0;135;0m[\u001b[0m\u001b[38;2;0;135;0mMasked\u001b[0m\u001b[1;38;2;0;135;0m]\u001b[0m\u001b[38;2;0;135;0m'\u001b[0m                                                          \u001b[2m            \u001b[0m\n",
       "\u001b[2;36m                    \u001b[0m             - \u001b[38;2;0;135;0m'\u001b[0m\u001b[1;38;2;0;135;0m[\u001b[0m\u001b[38;2;0;135;0mMasked\u001b[0m\u001b[1;38;2;0;135;0m]\u001b[0m\u001b[38;2;0;135;0m'\u001b[0m                                                          \u001b[2m            \u001b[0m\n",
       "\u001b[2;36m                    \u001b[0m             - \u001b[38;2;0;135;0m'\u001b[0m\u001b[1;38;2;0;135;0m[\u001b[0m\u001b[38;2;0;135;0mMasked\u001b[0m\u001b[1;38;2;0;135;0m]\u001b[0m\u001b[38;2;0;135;0m'\u001b[0m                                                          \u001b[2m            \u001b[0m\n",
       "\u001b[2;36m                    \u001b[0m             - \u001b[38;2;0;135;0m'\u001b[0m\u001b[1;38;2;0;135;0m[\u001b[0m\u001b[38;2;0;135;0mMasked\u001b[0m\u001b[1;38;2;0;135;0m]\u001b[0m\u001b[38;2;0;135;0m'\u001b[0m                                                          \u001b[2m            \u001b[0m\n",
       "\u001b[2;36m                    \u001b[0m             - \u001b[38;2;0;135;0m'\u001b[0m\u001b[1;38;2;0;135;0m[\u001b[0m\u001b[38;2;0;135;0mMasked\u001b[0m\u001b[1;38;2;0;135;0m]\u001b[0m\u001b[38;2;0;135;0m'\u001b[0m                                                          \u001b[2m            \u001b[0m\n",
       "\u001b[2;36m                    \u001b[0m             - \u001b[38;2;0;135;0m'\u001b[0m\u001b[1;38;2;0;135;0m[\u001b[0m\u001b[38;2;0;135;0mMasked\u001b[0m\u001b[1;38;2;0;135;0m]\u001b[0m\u001b[38;2;0;135;0m'\u001b[0m                                                          \u001b[2m            \u001b[0m\n",
       "\u001b[2;36m                    \u001b[0m             - \u001b[38;2;0;135;0m'\u001b[0m\u001b[1;38;2;0;135;0m[\u001b[0m\u001b[38;2;0;135;0mMasked\u001b[0m\u001b[1;38;2;0;135;0m]\u001b[0m\u001b[38;2;0;135;0m'\u001b[0m                                                          \u001b[2m            \u001b[0m\n",
       "\u001b[2;36m                    \u001b[0m             - \u001b[38;2;0;135;0m'\u001b[0m\u001b[1;38;2;0;135;0m[\u001b[0m\u001b[38;2;0;135;0mMasked\u001b[0m\u001b[1;38;2;0;135;0m]\u001b[0m\u001b[38;2;0;135;0m'\u001b[0m                                                          \u001b[2m            \u001b[0m\n",
       "\u001b[2;36m                    \u001b[0m             - \u001b[38;2;0;135;0m'\u001b[0m\u001b[1;38;2;0;135;0m[\u001b[0m\u001b[38;2;0;135;0mMasked\u001b[0m\u001b[1;38;2;0;135;0m]\u001b[0m\u001b[38;2;0;135;0m'\u001b[0m                                                          \u001b[2m            \u001b[0m\n",
       "\u001b[2;36m                    \u001b[0m             - \u001b[38;2;0;135;0m'\u001b[0m\u001b[1;38;2;0;135;0m[\u001b[0m\u001b[38;2;0;135;0mMasked\u001b[0m\u001b[1;38;2;0;135;0m]\u001b[0m\u001b[38;2;0;135;0m'\u001b[0m                                                          \u001b[2m            \u001b[0m\n",
       "\u001b[2;36m                    \u001b[0m             image:                                                                \u001b[2m            \u001b[0m\n",
       "\u001b[2;36m                    \u001b[0m         \u001b[1;36m246618743249.\u001b[0mdkr.ecr.us-west-\u001b[1;36m2.\u001b[0mamazonaws.com/sagemaker-scikit-learn:\u001b[1;36m1.2\u001b[0m-\u001b[1;36m1\u001b[0m \u001b[2m            \u001b[0m\n",
       "\u001b[2;36m                    \u001b[0m         -cpu-py3                                                                  \u001b[2m            \u001b[0m\n",
       "\u001b[2;36m                    \u001b[0m             network_mode: sagemaker                                               \u001b[2m            \u001b[0m\n",
       "\u001b[2;36m                    \u001b[0m             stdin_open: true                                                      \u001b[2m            \u001b[0m\n",
       "\u001b[2;36m                    \u001b[0m             tty: true                                                             \u001b[2m            \u001b[0m\n",
       "\u001b[2;36m                    \u001b[0m             volumes:                                                              \u001b[2m            \u001b[0m\n",
       "\u001b[2;36m                    \u001b[0m             -                                                                     \u001b[2m            \u001b[0m\n",
       "\u001b[2;36m                    \u001b[0m         \u001b[38;2;225;0;225m/home/sagemaker-user/tmp/tmp8rn75x00/sagemaker-local/\u001b[0m\u001b[38;2;225;0;225moutput\u001b[0m:\u001b[38;2;225;0;225m/opt/ml/\u001b[0m\u001b[38;2;225;0;225moutpu\u001b[0m \u001b[2m            \u001b[0m\n",
       "\u001b[2;36m                    \u001b[0m         \u001b[38;2;225;0;225mt\u001b[0m                                                                         \u001b[2m            \u001b[0m\n",
       "\u001b[2;36m                    \u001b[0m             -                                                                     \u001b[2m            \u001b[0m\n",
       "\u001b[2;36m                    \u001b[0m         \u001b[38;2;225;0;225m/home/sagemaker-user/tmp/tmp8rn75x00/sagemaker-local/\u001b[0m\u001b[38;2;225;0;225minput\u001b[0m:\u001b[38;2;225;0;225m/opt/ml/\u001b[0m\u001b[38;2;225;0;225minput\u001b[0m  \u001b[2m            \u001b[0m\n",
       "\u001b[2;36m                    \u001b[0m             -                                                                     \u001b[2m            \u001b[0m\n",
       "\u001b[2;36m                    \u001b[0m         \u001b[38;2;225;0;225m/home/sagemaker-user/tmp/tmp8rn75x00/sagemaker-local/output/\u001b[0m\u001b[38;2;225;0;225mdata\u001b[0m:\u001b[38;2;225;0;225m/opt/ml/\u001b[0m \u001b[2m            \u001b[0m\n",
       "\u001b[2;36m                    \u001b[0m         \u001b[38;2;225;0;225moutput/\u001b[0m\u001b[38;2;225;0;225mdata\u001b[0m                                                               \u001b[2m            \u001b[0m\n",
       "\u001b[2;36m                    \u001b[0m             - \u001b[38;2;225;0;225m/home/sagemaker-user/tmp/tmp8rn75x00/\u001b[0m\u001b[38;2;225;0;225mmodel\u001b[0m:\u001b[38;2;225;0;225m/opt/ml/\u001b[0m\u001b[38;2;225;0;225mmodel\u001b[0m            \u001b[2m            \u001b[0m\n",
       "\u001b[2;36m                    \u001b[0m             - \u001b[38;2;225;0;225m/opt/ml/\u001b[0m\u001b[38;2;225;0;225mmetadata\u001b[0m:\u001b[38;2;225;0;225m/opt/ml/\u001b[0m\u001b[38;2;225;0;225mmetadata\u001b[0m                                   \u001b[2m            \u001b[0m\n",
       "\u001b[2;36m                    \u001b[0m             - \u001b[38;2;225;0;225m/home/sagemaker-user/tmp/\u001b[0m\u001b[38;2;225;0;225mtmp9fia63fa\u001b[0m:\u001b[38;2;225;0;225m/opt/ml/input/data/\u001b[0m\u001b[38;2;225;0;225mtrain\u001b[0m       \u001b[2m            \u001b[0m\n",
       "\u001b[2;36m                    \u001b[0m             -                                                                     \u001b[2m            \u001b[0m\n",
       "\u001b[2;36m                    \u001b[0m         \u001b[38;2;225;0;225m/home/sagemaker-user/amazon-sagemaker-immersion-day/experiment-tracking/\u001b[0m\u001b[38;2;225;0;225mt\u001b[0m \u001b[2m            \u001b[0m\n",
       "\u001b[2;36m                    \u001b[0m         \u001b[38;2;225;0;225mraining_code\u001b[0m:\u001b[38;2;225;0;225m/opt/ml/\u001b[0m\u001b[38;2;225;0;225mcode\u001b[0m                                                 \u001b[2m            \u001b[0m\n",
       "\u001b[2;36m                    \u001b[0m             - \u001b[38;2;225;0;225m/home/sagemaker-user/tmp/tmp8rn75x00/\u001b[0m\u001b[38;2;225;0;225mshared\u001b[0m:\u001b[38;2;225;0;225m/opt/ml/\u001b[0m\u001b[38;2;225;0;225mshared\u001b[0m          \u001b[2m            \u001b[0m\n",
       "\u001b[2;36m                    \u001b[0m         version: \u001b[38;2;0;135;0m'2.3'\u001b[0m                                                            \u001b[2m            \u001b[0m\n",
       "\u001b[2;36m                    \u001b[0m                                                                                   \u001b[2m            \u001b[0m\n"
      ]
     },
     "metadata": {},
     "output_type": "display_data"
    },
    {
     "data": {
      "text/html": [
       "<pre style=\"white-space:pre;overflow-x:auto;line-height:normal;font-family:Menlo,'DejaVu Sans Mono',consolas,'Courier New',monospace\"><span style=\"color: #7fbfbf; text-decoration-color: #7fbfbf\">                    </span><span style=\"color: #0069ff; text-decoration-color: #0069ff; font-weight: bold\">INFO    </span> docker command: docker compose -f                                         <a href=\"file:///opt/conda/lib/python3.11/site-packages/sagemaker/local/image.py\" target=\"_blank\"><span style=\"color: #7f7f7f; text-decoration-color: #7f7f7f\">image.py</span></a><span style=\"color: #7f7f7f; text-decoration-color: #7f7f7f\">:</span><a href=\"file:///opt/conda/lib/python3.11/site-packages/sagemaker/local/image.py#805\" target=\"_blank\"><span style=\"color: #7f7f7f; text-decoration-color: #7f7f7f\">805</span></a>\n",
       "<span style=\"color: #7fbfbf; text-decoration-color: #7fbfbf\">                    </span>         <span style=\"color: #e100e1; text-decoration-color: #e100e1\">/home/sagemaker-user/tmp/tmp8rn75x00/docker-compose.yaml</span> up --build       <span style=\"color: #7f7f7f; text-decoration-color: #7f7f7f\">            </span>\n",
       "<span style=\"color: #7fbfbf; text-decoration-color: #7fbfbf\">                    </span>         --abort-on-container-exit                                                 <span style=\"color: #7f7f7f; text-decoration-color: #7f7f7f\">            </span>\n",
       "</pre>\n"
      ],
      "text/plain": [
       "\u001b[2;36m                   \u001b[0m\u001b[2;36m \u001b[0m\u001b[1;38;2;0;105;255mINFO    \u001b[0m docker command: docker compose -f                                         \u001b]8;id=953123;file:///opt/conda/lib/python3.11/site-packages/sagemaker/local/image.py\u001b\\\u001b[2mimage.py\u001b[0m\u001b]8;;\u001b\\\u001b[2m:\u001b[0m\u001b]8;id=525534;file:///opt/conda/lib/python3.11/site-packages/sagemaker/local/image.py#805\u001b\\\u001b[2m805\u001b[0m\u001b]8;;\u001b\\\n",
       "\u001b[2;36m                    \u001b[0m         \u001b[38;2;225;0;225m/home/sagemaker-user/tmp/tmp8rn75x00/\u001b[0m\u001b[38;2;225;0;225mdocker-compose.yaml\u001b[0m up --build       \u001b[2m            \u001b[0m\n",
       "\u001b[2;36m                    \u001b[0m         --abort-on-container-exit                                                 \u001b[2m            \u001b[0m\n"
      ]
     },
     "metadata": {},
     "output_type": "display_data"
    },
    {
     "name": "stdout",
     "output_type": "stream",
     "text": [
      "time=\"2025-04-17T12:44:40Z\" level=warning msg=\"/home/sagemaker-user/tmp/tmp8rn75x00/docker-compose.yaml: the attribute `version` is obsolete, it will be ignored, please remove it to avoid potential confusion\"\n",
      " Container bmih9eetdw-sagemaker-local  Creating\n",
      " Container bmih9eetdw-sagemaker-local  Created\n",
      "Attaching to bmih9eetdw-sagemaker-local\n",
      "bmih9eetdw-sagemaker-local  | 2025-04-17 12:44:41,306 sagemaker-containers INFO     Imported framework sagemaker_sklearn_container.training\n",
      "bmih9eetdw-sagemaker-local  | 2025-04-17 12:44:41,309 sagemaker-training-toolkit INFO     No GPUs detected (normal if no gpus installed)\n",
      "bmih9eetdw-sagemaker-local  | 2025-04-17 12:44:41,312 sagemaker-training-toolkit INFO     No Neurons detected (normal if no neurons installed)\n",
      "bmih9eetdw-sagemaker-local  | 2025-04-17 12:44:41,320 sagemaker-training-toolkit INFO     instance_groups entry not present in resource_config\n",
      "bmih9eetdw-sagemaker-local  | 2025-04-17 12:44:41,326 sagemaker_sklearn_container.training INFO     Invoking user training script.\n",
      "bmih9eetdw-sagemaker-local  | 2025-04-17 12:44:41,327 sagemaker-training-toolkit INFO     Installing dependencies from requirements.txt\n",
      "bmih9eetdw-sagemaker-local  | Collecting mlflow==2.16.2 (from -r requirements.txt (line 1))\n",
      "bmih9eetdw-sagemaker-local  |   Downloading mlflow-2.16.2-py3-none-any.whl.metadata (29 kB)\n",
      "bmih9eetdw-sagemaker-local  | Collecting sagemaker-mlflow==0.1.0 (from -r requirements.txt (line 2))\n",
      "bmih9eetdw-sagemaker-local  |   Downloading sagemaker_mlflow-0.1.0-py3-none-any.whl.metadata (3.3 kB)\n",
      "bmih9eetdw-sagemaker-local  | Collecting mlflow-skinny==2.16.2 (from mlflow==2.16.2->-r requirements.txt (line 1))\n",
      "bmih9eetdw-sagemaker-local  |   Downloading mlflow_skinny-2.16.2-py3-none-any.whl.metadata (30 kB)\n",
      "bmih9eetdw-sagemaker-local  | Requirement already satisfied: Flask<4 in /miniconda3/lib/python3.9/site-packages (from mlflow==2.16.2->-r requirements.txt (line 1)) (1.1.1)\n",
      "bmih9eetdw-sagemaker-local  | Collecting alembic!=1.10.0,<2 (from mlflow==2.16.2->-r requirements.txt (line 1))\n",
      "bmih9eetdw-sagemaker-local  |   Downloading alembic-1.15.2-py3-none-any.whl.metadata (7.3 kB)\n",
      "bmih9eetdw-sagemaker-local  | Collecting docker<8,>=4.0.0 (from mlflow==2.16.2->-r requirements.txt (line 1))\n",
      "bmih9eetdw-sagemaker-local  |   Downloading docker-7.1.0-py3-none-any.whl.metadata (3.8 kB)\n",
      "bmih9eetdw-sagemaker-local  | Collecting graphene<4 (from mlflow==2.16.2->-r requirements.txt (line 1))\n",
      "bmih9eetdw-sagemaker-local  |   Downloading graphene-3.4.3-py2.py3-none-any.whl.metadata (6.9 kB)\n",
      "bmih9eetdw-sagemaker-local  | Collecting markdown<4,>=3.3 (from mlflow==2.16.2->-r requirements.txt (line 1))\n",
      "bmih9eetdw-sagemaker-local  |   Downloading markdown-3.8-py3-none-any.whl.metadata (5.1 kB)\n",
      "bmih9eetdw-sagemaker-local  | Collecting matplotlib<4 (from mlflow==2.16.2->-r requirements.txt (line 1))\n",
      "bmih9eetdw-sagemaker-local  |   Downloading matplotlib-3.9.4-cp39-cp39-manylinux_2_17_x86_64.manylinux2014_x86_64.whl.metadata (11 kB)\n",
      "bmih9eetdw-sagemaker-local  | Requirement already satisfied: numpy<3 in /miniconda3/lib/python3.9/site-packages (from mlflow==2.16.2->-r requirements.txt (line 1)) (1.24.1)\n",
      "bmih9eetdw-sagemaker-local  | Requirement already satisfied: pandas<3 in /miniconda3/lib/python3.9/site-packages (from mlflow==2.16.2->-r requirements.txt (line 1)) (1.1.3)\n",
      "bmih9eetdw-sagemaker-local  | Requirement already satisfied: pyarrow<18,>=4.0.0 in /miniconda3/lib/python3.9/site-packages (from mlflow==2.16.2->-r requirements.txt (line 1)) (14.0.1)\n",
      "bmih9eetdw-sagemaker-local  | Requirement already satisfied: scikit-learn<2 in /miniconda3/lib/python3.9/site-packages (from mlflow==2.16.2->-r requirements.txt (line 1)) (1.2.1)\n",
      "bmih9eetdw-sagemaker-local  | Requirement already satisfied: scipy<2 in /miniconda3/lib/python3.9/site-packages (from mlflow==2.16.2->-r requirements.txt (line 1)) (1.8.0)\n",
      "bmih9eetdw-sagemaker-local  | Collecting sqlalchemy<3,>=1.4.0 (from mlflow==2.16.2->-r requirements.txt (line 1))\n",
      "bmih9eetdw-sagemaker-local  |   Downloading sqlalchemy-2.0.40-cp39-cp39-manylinux_2_17_x86_64.manylinux2014_x86_64.whl.metadata (9.6 kB)\n",
      "bmih9eetdw-sagemaker-local  | Requirement already satisfied: Jinja2<4,>=2.11 in /miniconda3/lib/python3.9/site-packages (from mlflow==2.16.2->-r requirements.txt (line 1)) (3.0.3)\n",
      "bmih9eetdw-sagemaker-local  | Requirement already satisfied: gunicorn<24 in /miniconda3/lib/python3.9/site-packages (from mlflow==2.16.2->-r requirements.txt (line 1)) (20.0.4)\n",
      "bmih9eetdw-sagemaker-local  | Collecting boto3>=1.34 (from sagemaker-mlflow==0.1.0->-r requirements.txt (line 2))\n",
      "bmih9eetdw-sagemaker-local  |   Downloading boto3-1.37.35-py3-none-any.whl.metadata (6.7 kB)\n",
      "bmih9eetdw-sagemaker-local  | Collecting cachetools<6,>=5.0.0 (from mlflow-skinny==2.16.2->mlflow==2.16.2->-r requirements.txt (line 1))\n",
      "bmih9eetdw-sagemaker-local  |   Downloading cachetools-5.5.2-py3-none-any.whl.metadata (5.4 kB)\n",
      "bmih9eetdw-sagemaker-local  | Requirement already satisfied: click<9,>=7.0 in /miniconda3/lib/python3.9/site-packages (from mlflow-skinny==2.16.2->mlflow==2.16.2->-r requirements.txt (line 1)) (8.1.8)\n",
      "bmih9eetdw-sagemaker-local  | Collecting cloudpickle<4 (from mlflow-skinny==2.16.2->mlflow==2.16.2->-r requirements.txt (line 1))\n",
      "bmih9eetdw-sagemaker-local  |   Downloading cloudpickle-3.1.1-py3-none-any.whl.metadata (7.1 kB)\n",
      "bmih9eetdw-sagemaker-local  | Collecting databricks-sdk<1,>=0.20.0 (from mlflow-skinny==2.16.2->mlflow==2.16.2->-r requirements.txt (line 1))\n",
      "bmih9eetdw-sagemaker-local  |   Downloading databricks_sdk-0.50.0-py3-none-any.whl.metadata (38 kB)\n",
      "bmih9eetdw-sagemaker-local  | Collecting gitpython<4,>=3.1.9 (from mlflow-skinny==2.16.2->mlflow==2.16.2->-r requirements.txt (line 1))\n",
      "bmih9eetdw-sagemaker-local  |   Downloading GitPython-3.1.44-py3-none-any.whl.metadata (13 kB)\n",
      "bmih9eetdw-sagemaker-local  | Collecting importlib-metadata!=4.7.0,<9,>=3.7.0 (from mlflow-skinny==2.16.2->mlflow==2.16.2->-r requirements.txt (line 1))\n",
      "bmih9eetdw-sagemaker-local  |   Downloading importlib_metadata-8.6.1-py3-none-any.whl.metadata (4.7 kB)\n",
      "bmih9eetdw-sagemaker-local  | Collecting opentelemetry-api<3,>=1.9.0 (from mlflow-skinny==2.16.2->mlflow==2.16.2->-r requirements.txt (line 1))\n",
      "bmih9eetdw-sagemaker-local  |   Downloading opentelemetry_api-1.32.1-py3-none-any.whl.metadata (1.6 kB)\n",
      "bmih9eetdw-sagemaker-local  | Collecting opentelemetry-sdk<3,>=1.9.0 (from mlflow-skinny==2.16.2->mlflow==2.16.2->-r requirements.txt (line 1))\n",
      "bmih9eetdw-sagemaker-local  |   Downloading opentelemetry_sdk-1.32.1-py3-none-any.whl.metadata (1.6 kB)\n",
      "bmih9eetdw-sagemaker-local  | Requirement already satisfied: packaging<25 in /miniconda3/lib/python3.9/site-packages (from mlflow-skinny==2.16.2->mlflow==2.16.2->-r requirements.txt (line 1)) (24.1)\n",
      "bmih9eetdw-sagemaker-local  | Requirement already satisfied: protobuf<6,>=3.12.0 in /miniconda3/lib/python3.9/site-packages (from mlflow-skinny==2.16.2->mlflow==2.16.2->-r requirements.txt (line 1)) (3.20.2)\n",
      "bmih9eetdw-sagemaker-local  | Collecting pyyaml<7,>=5.1 (from mlflow-skinny==2.16.2->mlflow==2.16.2->-r requirements.txt (line 1))\n",
      "bmih9eetdw-sagemaker-local  |   Downloading PyYAML-6.0.2-cp39-cp39-manylinux_2_17_x86_64.manylinux2014_x86_64.whl.metadata (2.1 kB)\n",
      "bmih9eetdw-sagemaker-local  | Requirement already satisfied: requests<3,>=2.17.3 in /miniconda3/lib/python3.9/site-packages (from mlflow-skinny==2.16.2->mlflow==2.16.2->-r requirements.txt (line 1)) (2.32.3)\n",
      "bmih9eetdw-sagemaker-local  | Collecting sqlparse<1,>=0.4.0 (from mlflow-skinny==2.16.2->mlflow==2.16.2->-r requirements.txt (line 1))\n",
      "bmih9eetdw-sagemaker-local  |   Downloading sqlparse-0.5.3-py3-none-any.whl.metadata (3.9 kB)\n",
      "bmih9eetdw-sagemaker-local  | Collecting Mako (from alembic!=1.10.0,<2->mlflow==2.16.2->-r requirements.txt (line 1))\n",
      "bmih9eetdw-sagemaker-local  |   Downloading mako-1.3.10-py3-none-any.whl.metadata (2.9 kB)\n",
      "bmih9eetdw-sagemaker-local  | Collecting typing-extensions>=4.12 (from alembic!=1.10.0,<2->mlflow==2.16.2->-r requirements.txt (line 1))\n",
      "bmih9eetdw-sagemaker-local  |   Downloading typing_extensions-4.13.2-py3-none-any.whl.metadata (3.0 kB)\n",
      "bmih9eetdw-sagemaker-local  | Collecting botocore<1.38.0,>=1.37.35 (from boto3>=1.34->sagemaker-mlflow==0.1.0->-r requirements.txt (line 2))\n",
      "bmih9eetdw-sagemaker-local  |   Downloading botocore-1.37.35-py3-none-any.whl.metadata (5.7 kB)\n",
      "bmih9eetdw-sagemaker-local  | Requirement already satisfied: jmespath<2.0.0,>=0.7.1 in /miniconda3/lib/python3.9/site-packages (from boto3>=1.34->sagemaker-mlflow==0.1.0->-r requirements.txt (line 2)) (1.0.1)\n",
      "bmih9eetdw-sagemaker-local  | Collecting s3transfer<0.12.0,>=0.11.0 (from boto3>=1.34->sagemaker-mlflow==0.1.0->-r requirements.txt (line 2))\n",
      "bmih9eetdw-sagemaker-local  |   Downloading s3transfer-0.11.4-py3-none-any.whl.metadata (1.7 kB)\n",
      "bmih9eetdw-sagemaker-local  | Requirement already satisfied: urllib3>=1.26.0 in /miniconda3/lib/python3.9/site-packages (from docker<8,>=4.0.0->mlflow==2.16.2->-r requirements.txt (line 1)) (1.26.17)\n",
      "bmih9eetdw-sagemaker-local  | Requirement already satisfied: Werkzeug>=0.15 in /miniconda3/lib/python3.9/site-packages (from Flask<4->mlflow==2.16.2->-r requirements.txt (line 1)) (2.0.3)\n",
      "bmih9eetdw-sagemaker-local  | Requirement already satisfied: itsdangerous>=0.24 in /miniconda3/lib/python3.9/site-packages (from Flask<4->mlflow==2.16.2->-r requirements.txt (line 1)) (2.0.1)\n",
      "bmih9eetdw-sagemaker-local  | Collecting graphql-core<3.3,>=3.1 (from graphene<4->mlflow==2.16.2->-r requirements.txt (line 1))\n",
      "bmih9eetdw-sagemaker-local  |   Downloading graphql_core-3.2.6-py3-none-any.whl.metadata (11 kB)\n",
      "bmih9eetdw-sagemaker-local  | Collecting graphql-relay<3.3,>=3.1 (from graphene<4->mlflow==2.16.2->-r requirements.txt (line 1))\n",
      "bmih9eetdw-sagemaker-local  |   Downloading graphql_relay-3.2.0-py3-none-any.whl.metadata (12 kB)\n",
      "bmih9eetdw-sagemaker-local  | Requirement already satisfied: python-dateutil<3,>=2.7.0 in /miniconda3/lib/python3.9/site-packages (from graphene<4->mlflow==2.16.2->-r requirements.txt (line 1)) (2.8.1)\n",
      "bmih9eetdw-sagemaker-local  | Requirement already satisfied: setuptools>=3.0 in /miniconda3/lib/python3.9/site-packages (from gunicorn<24->mlflow==2.16.2->-r requirements.txt (line 1)) (72.1.0)\n",
      "bmih9eetdw-sagemaker-local  | Requirement already satisfied: MarkupSafe>=2.0 in /miniconda3/lib/python3.9/site-packages (from Jinja2<4,>=2.11->mlflow==2.16.2->-r requirements.txt (line 1)) (2.1.1)\n",
      "bmih9eetdw-sagemaker-local  | Collecting contourpy>=1.0.1 (from matplotlib<4->mlflow==2.16.2->-r requirements.txt (line 1))\n",
      "bmih9eetdw-sagemaker-local  |   Downloading contourpy-1.3.0-cp39-cp39-manylinux_2_17_x86_64.manylinux2014_x86_64.whl.metadata (5.4 kB)\n",
      "bmih9eetdw-sagemaker-local  | Collecting cycler>=0.10 (from matplotlib<4->mlflow==2.16.2->-r requirements.txt (line 1))\n",
      "bmih9eetdw-sagemaker-local  |   Downloading cycler-0.12.1-py3-none-any.whl.metadata (3.8 kB)\n",
      "bmih9eetdw-sagemaker-local  | Collecting fonttools>=4.22.0 (from matplotlib<4->mlflow==2.16.2->-r requirements.txt (line 1))\n",
      "bmih9eetdw-sagemaker-local  |   Downloading fonttools-4.57.0-cp39-cp39-manylinux_2_17_x86_64.manylinux2014_x86_64.whl.metadata (102 kB)\n",
      "bmih9eetdw-sagemaker-local  | Collecting kiwisolver>=1.3.1 (from matplotlib<4->mlflow==2.16.2->-r requirements.txt (line 1))\n",
      "bmih9eetdw-sagemaker-local  |   Downloading kiwisolver-1.4.7-cp39-cp39-manylinux_2_12_x86_64.manylinux2010_x86_64.whl.metadata (6.3 kB)\n",
      "bmih9eetdw-sagemaker-local  | Requirement already satisfied: pillow>=8 in /miniconda3/lib/python3.9/site-packages (from matplotlib<4->mlflow==2.16.2->-r requirements.txt (line 1)) (11.1.0)\n",
      "bmih9eetdw-sagemaker-local  | Collecting pyparsing>=2.3.1 (from matplotlib<4->mlflow==2.16.2->-r requirements.txt (line 1))\n",
      "bmih9eetdw-sagemaker-local  |   Downloading pyparsing-3.2.3-py3-none-any.whl.metadata (5.0 kB)\n",
      "bmih9eetdw-sagemaker-local  | Collecting importlib-resources>=3.2.0 (from matplotlib<4->mlflow==2.16.2->-r requirements.txt (line 1))\n",
      "bmih9eetdw-sagemaker-local  |   Downloading importlib_resources-6.5.2-py3-none-any.whl.metadata (3.9 kB)\n",
      "bmih9eetdw-sagemaker-local  | Requirement already satisfied: pytz>=2017.2 in /miniconda3/lib/python3.9/site-packages (from pandas<3->mlflow==2.16.2->-r requirements.txt (line 1)) (2025.2)\n",
      "bmih9eetdw-sagemaker-local  | Requirement already satisfied: joblib>=1.1.1 in /miniconda3/lib/python3.9/site-packages (from scikit-learn<2->mlflow==2.16.2->-r requirements.txt (line 1)) (1.4.2)\n",
      "bmih9eetdw-sagemaker-local  | Requirement already satisfied: threadpoolctl>=2.0.0 in /miniconda3/lib/python3.9/site-packages (from scikit-learn<2->mlflow==2.16.2->-r requirements.txt (line 1)) (3.6.0)\n",
      "bmih9eetdw-sagemaker-local  | Requirement already satisfied: greenlet>=1 in /miniconda3/lib/python3.9/site-packages (from sqlalchemy<3,>=1.4.0->mlflow==2.16.2->-r requirements.txt (line 1)) (3.1.1)\n",
      "bmih9eetdw-sagemaker-local  | Collecting google-auth~=2.0 (from databricks-sdk<1,>=0.20.0->mlflow-skinny==2.16.2->mlflow==2.16.2->-r requirements.txt (line 1))\n",
      "bmih9eetdw-sagemaker-local  |   Downloading google_auth-2.39.0-py2.py3-none-any.whl.metadata (6.2 kB)\n",
      "bmih9eetdw-sagemaker-local  | Collecting gitdb<5,>=4.0.1 (from gitpython<4,>=3.1.9->mlflow-skinny==2.16.2->mlflow==2.16.2->-r requirements.txt (line 1))\n",
      "bmih9eetdw-sagemaker-local  |   Downloading gitdb-4.0.12-py3-none-any.whl.metadata (1.2 kB)\n",
      "bmih9eetdw-sagemaker-local  | Collecting zipp>=3.20 (from importlib-metadata!=4.7.0,<9,>=3.7.0->mlflow-skinny==2.16.2->mlflow==2.16.2->-r requirements.txt (line 1))\n",
      "bmih9eetdw-sagemaker-local  |   Downloading zipp-3.21.0-py3-none-any.whl.metadata (3.7 kB)\n",
      "bmih9eetdw-sagemaker-local  | Collecting deprecated>=1.2.6 (from opentelemetry-api<3,>=1.9.0->mlflow-skinny==2.16.2->mlflow==2.16.2->-r requirements.txt (line 1))\n",
      "bmih9eetdw-sagemaker-local  |   Downloading Deprecated-1.2.18-py2.py3-none-any.whl.metadata (5.7 kB)\n",
      "bmih9eetdw-sagemaker-local  | Collecting opentelemetry-semantic-conventions==0.53b1 (from opentelemetry-sdk<3,>=1.9.0->mlflow-skinny==2.16.2->mlflow==2.16.2->-r requirements.txt (line 1))\n",
      "bmih9eetdw-sagemaker-local  |   Downloading opentelemetry_semantic_conventions-0.53b1-py3-none-any.whl.metadata (2.5 kB)\n",
      "bmih9eetdw-sagemaker-local  | Requirement already satisfied: six>=1.5 in /miniconda3/lib/python3.9/site-packages (from python-dateutil<3,>=2.7.0->graphene<4->mlflow==2.16.2->-r requirements.txt (line 1)) (1.15.0)\n",
      "bmih9eetdw-sagemaker-local  | Requirement already satisfied: charset-normalizer<4,>=2 in /miniconda3/lib/python3.9/site-packages (from requests<3,>=2.17.3->mlflow-skinny==2.16.2->mlflow==2.16.2->-r requirements.txt (line 1)) (3.3.2)\n",
      "bmih9eetdw-sagemaker-local  | Requirement already satisfied: idna<4,>=2.5 in /miniconda3/lib/python3.9/site-packages (from requests<3,>=2.17.3->mlflow-skinny==2.16.2->mlflow==2.16.2->-r requirements.txt (line 1)) (3.7)\n",
      "bmih9eetdw-sagemaker-local  | Requirement already satisfied: certifi>=2017.4.17 in /miniconda3/lib/python3.9/site-packages (from requests<3,>=2.17.3->mlflow-skinny==2.16.2->mlflow==2.16.2->-r requirements.txt (line 1)) (2025.1.31)\n",
      "bmih9eetdw-sagemaker-local  | Collecting wrapt<2,>=1.10 (from deprecated>=1.2.6->opentelemetry-api<3,>=1.9.0->mlflow-skinny==2.16.2->mlflow==2.16.2->-r requirements.txt (line 1))\n",
      "bmih9eetdw-sagemaker-local  |   Downloading wrapt-1.17.2-cp39-cp39-manylinux_2_5_x86_64.manylinux1_x86_64.manylinux_2_17_x86_64.manylinux2014_x86_64.whl.metadata (6.4 kB)\n",
      "bmih9eetdw-sagemaker-local  | Collecting smmap<6,>=3.0.1 (from gitdb<5,>=4.0.1->gitpython<4,>=3.1.9->mlflow-skinny==2.16.2->mlflow==2.16.2->-r requirements.txt (line 1))\n",
      "bmih9eetdw-sagemaker-local  |   Downloading smmap-5.0.2-py3-none-any.whl.metadata (4.3 kB)\n",
      "bmih9eetdw-sagemaker-local  | Collecting pyasn1-modules>=0.2.1 (from google-auth~=2.0->databricks-sdk<1,>=0.20.0->mlflow-skinny==2.16.2->mlflow==2.16.2->-r requirements.txt (line 1))\n",
      "bmih9eetdw-sagemaker-local  |   Downloading pyasn1_modules-0.4.2-py3-none-any.whl.metadata (3.5 kB)\n",
      "bmih9eetdw-sagemaker-local  | Collecting rsa<5,>=3.1.4 (from google-auth~=2.0->databricks-sdk<1,>=0.20.0->mlflow-skinny==2.16.2->mlflow==2.16.2->-r requirements.txt (line 1))\n",
      "bmih9eetdw-sagemaker-local  |   Downloading rsa-4.9.1-py3-none-any.whl.metadata (5.6 kB)\n",
      "bmih9eetdw-sagemaker-local  | Collecting pyasn1<0.7.0,>=0.6.1 (from pyasn1-modules>=0.2.1->google-auth~=2.0->databricks-sdk<1,>=0.20.0->mlflow-skinny==2.16.2->mlflow==2.16.2->-r requirements.txt (line 1))\n",
      "bmih9eetdw-sagemaker-local  |   Downloading pyasn1-0.6.1-py3-none-any.whl.metadata (8.4 kB)\n",
      "bmih9eetdw-sagemaker-local  | Downloading mlflow-2.16.2-py3-none-any.whl (26.7 MB)\n",
      "\u001b[2K   \u001b[90m━━━━━━━━━━━━━━━━━━━━━━━━━━━━━━━━━━━━━━━━\u001b[0m \u001b[32m26.7/26.7 MB\u001b[0m \u001b[31m180.4 MB/s\u001b[0m eta \u001b[36m0:00:00\u001b[0mm eta \u001b[36m-:--:--\u001b[0m\n",
      "bmih9eetdw-sagemaker-local  | \u001b[?25hDownloading sagemaker_mlflow-0.1.0-py3-none-any.whl (24 kB)\n",
      "bmih9eetdw-sagemaker-local  | Downloading mlflow_skinny-2.16.2-py3-none-any.whl (5.6 MB)\n",
      "\u001b[2K   \u001b[90m━━━━━━━━━━━━━━━━━━━━━━━━━━━━━━━━━━━━━━━━\u001b[0m \u001b[32m5.6/5.6 MB\u001b[0m \u001b[31m163.1 MB/s\u001b[0m eta \u001b[36m0:00:00\u001b[0m0m eta \u001b[36m-:--:--\u001b[0m\n",
      "bmih9eetdw-sagemaker-local  | \u001b[?25hDownloading alembic-1.15.2-py3-none-any.whl (231 kB)\n",
      "bmih9eetdw-sagemaker-local  | Downloading boto3-1.37.35-py3-none-any.whl (139 kB)\n",
      "bmih9eetdw-sagemaker-local  | Downloading docker-7.1.0-py3-none-any.whl (147 kB)\n",
      "bmih9eetdw-sagemaker-local  | Downloading graphene-3.4.3-py2.py3-none-any.whl (114 kB)\n",
      "bmih9eetdw-sagemaker-local  | Downloading markdown-3.8-py3-none-any.whl (106 kB)\n",
      "bmih9eetdw-sagemaker-local  | Downloading matplotlib-3.9.4-cp39-cp39-manylinux_2_17_x86_64.manylinux2014_x86_64.whl (8.3 MB)\n",
      "\u001b[2K   \u001b[90m━━━━━━━━━━━━━━━━━━━━━━━━━━━━━━━━━━━━━━━━\u001b[0m \u001b[32m8.3/8.3 MB\u001b[0m \u001b[31m193.5 MB/s\u001b[0m eta \u001b[36m0:00:00\u001b[0m0m eta \u001b[36m-:--:--\u001b[0m\n",
      "bmih9eetdw-sagemaker-local  | \u001b[?25hDownloading sqlalchemy-2.0.40-cp39-cp39-manylinux_2_17_x86_64.manylinux2014_x86_64.whl (3.1 MB)\n",
      "\u001b[2K   \u001b[90m━━━━━━━━━━━━━━━━━━━━━━━━━━━━━━━━━━━━━━━━\u001b[0m \u001b[32m3.1/3.1 MB\u001b[0m \u001b[31m183.4 MB/s\u001b[0m eta \u001b[36m0:00:00\u001b[0m0m eta \u001b[36m-:--:--\u001b[0m\n",
      "bmih9eetdw-sagemaker-local  | \u001b[?25hDownloading botocore-1.37.35-py3-none-any.whl (13.5 MB)\n",
      "\u001b[2K   \u001b[90m━━━━━━━━━━━━━━━━━━━━━━━━━━━━━━━━━━━━━━━━\u001b[0m \u001b[32m13.5/13.5 MB\u001b[0m \u001b[31m213.7 MB/s\u001b[0m eta \u001b[36m0:00:00\u001b[0mm eta \u001b[36m-:--:--\u001b[0m\n",
      "bmih9eetdw-sagemaker-local  | \u001b[?25hDownloading cachetools-5.5.2-py3-none-any.whl (10 kB)\n",
      "bmih9eetdw-sagemaker-local  | Downloading cloudpickle-3.1.1-py3-none-any.whl (20 kB)\n",
      "bmih9eetdw-sagemaker-local  | Downloading contourpy-1.3.0-cp39-cp39-manylinux_2_17_x86_64.manylinux2014_x86_64.whl (321 kB)\n",
      "bmih9eetdw-sagemaker-local  | Downloading cycler-0.12.1-py3-none-any.whl (8.3 kB)\n",
      "bmih9eetdw-sagemaker-local  | Downloading databricks_sdk-0.50.0-py3-none-any.whl (692 kB)\n",
      "\u001b[2K   \u001b[90m━━━━━━━━━━━━━━━━━━━━━━━━━━━━━━━━━━━━━━━━\u001b[0m \u001b[32m692.3/692.3 kB\u001b[0m \u001b[31m55.2 MB/s\u001b[0m eta \u001b[36m0:00:00\u001b[0mm eta \u001b[36m-:--:--\u001b[0m\n",
      "bmih9eetdw-sagemaker-local  | \u001b[?25hDownloading fonttools-4.57.0-cp39-cp39-manylinux_2_17_x86_64.manylinux2014_x86_64.whl (4.6 MB)\n",
      "\u001b[2K   \u001b[90m━━━━━━━━━━━━━━━━━━━━━━━━━━━━━━━━━━━━━━━━\u001b[0m \u001b[32m4.6/4.6 MB\u001b[0m \u001b[31m182.0 MB/s\u001b[0m eta \u001b[36m0:00:00\u001b[0m0m eta \u001b[36m-:--:--\u001b[0m\n",
      "bmih9eetdw-sagemaker-local  | \u001b[?25hDownloading GitPython-3.1.44-py3-none-any.whl (207 kB)\n",
      "bmih9eetdw-sagemaker-local  | Downloading graphql_core-3.2.6-py3-none-any.whl (203 kB)\n",
      "bmih9eetdw-sagemaker-local  | Downloading graphql_relay-3.2.0-py3-none-any.whl (16 kB)\n",
      "bmih9eetdw-sagemaker-local  | Downloading importlib_metadata-8.6.1-py3-none-any.whl (26 kB)\n",
      "bmih9eetdw-sagemaker-local  | Downloading importlib_resources-6.5.2-py3-none-any.whl (37 kB)\n",
      "bmih9eetdw-sagemaker-local  | Downloading kiwisolver-1.4.7-cp39-cp39-manylinux_2_12_x86_64.manylinux2010_x86_64.whl (1.6 MB)\n",
      "\u001b[2K   \u001b[90m━━━━━━━━━━━━━━━━━━━━━━━━━━━━━━━━━━━━━━━━\u001b[0m \u001b[32m1.6/1.6 MB\u001b[0m \u001b[31m120.8 MB/s\u001b[0m eta \u001b[36m0:00:00\u001b[0m0m eta \u001b[36m-:--:--\u001b[0m\n",
      "bmih9eetdw-sagemaker-local  | \u001b[?25hDownloading opentelemetry_api-1.32.1-py3-none-any.whl (65 kB)\n",
      "bmih9eetdw-sagemaker-local  | Downloading opentelemetry_sdk-1.32.1-py3-none-any.whl (118 kB)\n",
      "bmih9eetdw-sagemaker-local  | Downloading opentelemetry_semantic_conventions-0.53b1-py3-none-any.whl (188 kB)\n",
      "bmih9eetdw-sagemaker-local  | Downloading pyparsing-3.2.3-py3-none-any.whl (111 kB)\n",
      "bmih9eetdw-sagemaker-local  | Downloading PyYAML-6.0.2-cp39-cp39-manylinux_2_17_x86_64.manylinux2014_x86_64.whl (737 kB)\n",
      "\u001b[2K   \u001b[90m━━━━━━━━━━━━━━━━━━━━━━━━━━━━━━━━━━━━━━━━\u001b[0m \u001b[32m737.4/737.4 kB\u001b[0m \u001b[31m55.7 MB/s\u001b[0m eta \u001b[36m0:00:00\u001b[0mm eta \u001b[36m-:--:--\u001b[0m\n",
      "bmih9eetdw-sagemaker-local  | \u001b[?25hDownloading s3transfer-0.11.4-py3-none-any.whl (84 kB)\n",
      "bmih9eetdw-sagemaker-local  | Downloading sqlparse-0.5.3-py3-none-any.whl (44 kB)\n",
      "bmih9eetdw-sagemaker-local  | Downloading typing_extensions-4.13.2-py3-none-any.whl (45 kB)\n",
      "bmih9eetdw-sagemaker-local  | Downloading mako-1.3.10-py3-none-any.whl (78 kB)\n",
      "bmih9eetdw-sagemaker-local  | Downloading Deprecated-1.2.18-py2.py3-none-any.whl (10.0 kB)\n",
      "bmih9eetdw-sagemaker-local  | Downloading gitdb-4.0.12-py3-none-any.whl (62 kB)\n",
      "bmih9eetdw-sagemaker-local  | Downloading google_auth-2.39.0-py2.py3-none-any.whl (212 kB)\n",
      "bmih9eetdw-sagemaker-local  | Downloading zipp-3.21.0-py3-none-any.whl (9.6 kB)\n",
      "bmih9eetdw-sagemaker-local  | Downloading pyasn1_modules-0.4.2-py3-none-any.whl (181 kB)\n",
      "bmih9eetdw-sagemaker-local  | Downloading rsa-4.9.1-py3-none-any.whl (34 kB)\n",
      "bmih9eetdw-sagemaker-local  | Downloading smmap-5.0.2-py3-none-any.whl (24 kB)\n",
      "bmih9eetdw-sagemaker-local  | Downloading wrapt-1.17.2-cp39-cp39-manylinux_2_5_x86_64.manylinux1_x86_64.manylinux_2_17_x86_64.manylinux2014_x86_64.whl (82 kB)\n",
      "bmih9eetdw-sagemaker-local  | Downloading pyasn1-0.6.1-py3-none-any.whl (83 kB)\n",
      "bmih9eetdw-sagemaker-local  | Installing collected packages: zipp, wrapt, typing-extensions, sqlparse, smmap, pyyaml, pyparsing, pyasn1, Mako, kiwisolver, fonttools, cycler, contourpy, cloudpickle, cachetools, sqlalchemy, rsa, pyasn1-modules, importlib-resources, importlib-metadata, graphql-core, gitdb, docker, deprecated, botocore, s3transfer, opentelemetry-api, matplotlib, markdown, graphql-relay, google-auth, gitpython, alembic, opentelemetry-semantic-conventions, graphene, databricks-sdk, boto3, opentelemetry-sdk, mlflow-skinny, mlflow, sagemaker-mlflow\n",
      "bmih9eetdw-sagemaker-local  |   Attempting uninstall: botocore\n",
      "bmih9eetdw-sagemaker-local  |     Found existing installation: botocore 1.31.85\n",
      "bmih9eetdw-sagemaker-local  |     Uninstalling botocore-1.31.85:\n",
      "bmih9eetdw-sagemaker-local  |       Successfully uninstalled botocore-1.31.85\n",
      "bmih9eetdw-sagemaker-local  |   Attempting uninstall: s3transfer\n",
      "bmih9eetdw-sagemaker-local  |     Found existing installation: s3transfer 0.7.0\n",
      "bmih9eetdw-sagemaker-local  |     Uninstalling s3transfer-0.7.0:\n",
      "bmih9eetdw-sagemaker-local  |       Successfully uninstalled s3transfer-0.7.0\n",
      "bmih9eetdw-sagemaker-local  |   Attempting uninstall: boto3\n",
      "bmih9eetdw-sagemaker-local  |     Found existing installation: boto3 1.28.57\n",
      "bmih9eetdw-sagemaker-local  |     Uninstalling boto3-1.28.57:\n",
      "bmih9eetdw-sagemaker-local  |       Successfully uninstalled boto3-1.28.57\n",
      "bmih9eetdw-sagemaker-local  | \u001b[31mERROR: pip's dependency resolver does not currently take into account all the packages that are installed. This behaviour is the source of the following dependency conflicts.\n",
      "bmih9eetdw-sagemaker-local  | sagemaker-sklearn-container 2.0 requires boto3==1.28.57, but you have boto3 1.37.35 which is incompatible.\n",
      "bmih9eetdw-sagemaker-local  | sagemaker-sklearn-container 2.0 requires botocore<1.32.0,>=1.31.57, but you have botocore 1.37.35 which is incompatible.\u001b[0m\u001b[31m\n",
      "bmih9eetdw-sagemaker-local  | \u001b[0mSuccessfully installed Mako-1.3.10 alembic-1.15.2 boto3-1.37.35 botocore-1.37.35 cachetools-5.5.2 cloudpickle-3.1.1 contourpy-1.3.0 cycler-0.12.1 databricks-sdk-0.50.0 deprecated-1.2.18 docker-7.1.0 fonttools-4.57.0 gitdb-4.0.12 gitpython-3.1.44 google-auth-2.39.0 graphene-3.4.3 graphql-core-3.2.6 graphql-relay-3.2.0 importlib-metadata-8.6.1 importlib-resources-6.5.2 kiwisolver-1.4.7 markdown-3.8 matplotlib-3.9.4 mlflow-2.16.2 mlflow-skinny-2.16.2 opentelemetry-api-1.32.1 opentelemetry-sdk-1.32.1 opentelemetry-semantic-conventions-0.53b1 pyasn1-0.6.1 pyasn1-modules-0.4.2 pyparsing-3.2.3 pyyaml-6.0.2 rsa-4.9.1 s3transfer-0.11.4 sagemaker-mlflow-0.1.0 smmap-5.0.2 sqlalchemy-2.0.40 sqlparse-0.5.3 typing-extensions-4.13.2 wrapt-1.17.2 zipp-3.21.0\n",
      "bmih9eetdw-sagemaker-local  | 2025-04-17 12:44:55,578 sagemaker_training.entry_point INFO     Bypass DNS check in case of Studio Local Mode execution.\n",
      "bmih9eetdw-sagemaker-local  | 2025-04-17 12:44:55,580 sagemaker-training-toolkit INFO     No GPUs detected (normal if no gpus installed)\n",
      "bmih9eetdw-sagemaker-local  | 2025-04-17 12:44:55,583 sagemaker-training-toolkit INFO     No Neurons detected (normal if no neurons installed)\n",
      "bmih9eetdw-sagemaker-local  | 2025-04-17 12:44:55,592 sagemaker-training-toolkit INFO     instance_groups entry not present in resource_config\n",
      "bmih9eetdw-sagemaker-local  | 2025-04-17 12:44:55,600 sagemaker-training-toolkit INFO     No GPUs detected (normal if no gpus installed)\n",
      "bmih9eetdw-sagemaker-local  | 2025-04-17 12:44:55,602 sagemaker-training-toolkit INFO     No Neurons detected (normal if no neurons installed)\n",
      "bmih9eetdw-sagemaker-local  | 2025-04-17 12:44:55,610 sagemaker-training-toolkit INFO     instance_groups entry not present in resource_config\n",
      "bmih9eetdw-sagemaker-local  | 2025-04-17 12:44:55,616 sagemaker-training-toolkit INFO     Invoking user script\n",
      "bmih9eetdw-sagemaker-local  | \n",
      "bmih9eetdw-sagemaker-local  | Training Env:\n",
      "bmih9eetdw-sagemaker-local  | \n",
      "bmih9eetdw-sagemaker-local  | {\n",
      "bmih9eetdw-sagemaker-local  |     \"additional_framework_parameters\": {},\n",
      "bmih9eetdw-sagemaker-local  |     \"channel_input_dirs\": {\n",
      "bmih9eetdw-sagemaker-local  |         \"train\": \"/opt/ml/input/data/train\"\n",
      "bmih9eetdw-sagemaker-local  |     },\n",
      "bmih9eetdw-sagemaker-local  |     \"current_host\": \"sagemaker-local\",\n",
      "bmih9eetdw-sagemaker-local  |     \"current_instance_group\": \"homogeneousCluster\",\n",
      "bmih9eetdw-sagemaker-local  |     \"current_instance_group_hosts\": [],\n",
      "bmih9eetdw-sagemaker-local  |     \"current_instance_type\": \"ml.c5.xlarge\",\n",
      "bmih9eetdw-sagemaker-local  |     \"distribution_hosts\": [\n",
      "bmih9eetdw-sagemaker-local  |         \"sagemaker-local\"\n",
      "bmih9eetdw-sagemaker-local  |     ],\n",
      "bmih9eetdw-sagemaker-local  |     \"distribution_instance_groups\": [],\n",
      "bmih9eetdw-sagemaker-local  |     \"framework_module\": \"sagemaker_sklearn_container.training:main\",\n",
      "bmih9eetdw-sagemaker-local  |     \"hosts\": [\n",
      "bmih9eetdw-sagemaker-local  |         \"sagemaker-local\"\n",
      "bmih9eetdw-sagemaker-local  |     ],\n",
      "bmih9eetdw-sagemaker-local  |     \"hyperparameters\": {\n",
      "bmih9eetdw-sagemaker-local  |         \"max_leaf_nodes\": 30\n",
      "bmih9eetdw-sagemaker-local  |     },\n",
      "bmih9eetdw-sagemaker-local  |     \"input_config_dir\": \"/opt/ml/input/config\",\n",
      "bmih9eetdw-sagemaker-local  |     \"input_data_config\": {\n",
      "bmih9eetdw-sagemaker-local  |         \"train\": {\n",
      "bmih9eetdw-sagemaker-local  |             \"TrainingInputMode\": \"File\"\n",
      "bmih9eetdw-sagemaker-local  |         }\n",
      "bmih9eetdw-sagemaker-local  |     },\n",
      "bmih9eetdw-sagemaker-local  |     \"input_dir\": \"/opt/ml/input\",\n",
      "bmih9eetdw-sagemaker-local  |     \"instance_groups\": [],\n",
      "bmih9eetdw-sagemaker-local  |     \"instance_groups_dict\": {},\n",
      "bmih9eetdw-sagemaker-local  |     \"is_hetero\": false,\n",
      "bmih9eetdw-sagemaker-local  |     \"is_master\": true,\n",
      "bmih9eetdw-sagemaker-local  |     \"is_modelparallel_enabled\": null,\n",
      "bmih9eetdw-sagemaker-local  |     \"is_smddpmprun_installed\": false,\n",
      "bmih9eetdw-sagemaker-local  |     \"is_smddprun_installed\": false,\n",
      "bmih9eetdw-sagemaker-local  |     \"job_name\": \"sagemaker-scikit-learn-2025-04-17-12-44-40-253\",\n",
      "bmih9eetdw-sagemaker-local  |     \"log_level\": 20,\n",
      "bmih9eetdw-sagemaker-local  |     \"master_hostname\": \"sagemaker-local\",\n",
      "bmih9eetdw-sagemaker-local  |     \"model_dir\": \"/opt/ml/model\",\n",
      "bmih9eetdw-sagemaker-local  |     \"module_dir\": \"/opt/ml/code\",\n",
      "bmih9eetdw-sagemaker-local  |     \"module_name\": \"train\",\n",
      "bmih9eetdw-sagemaker-local  |     \"network_interface_name\": \"eth0\",\n",
      "bmih9eetdw-sagemaker-local  |     \"num_cpus\": 8,\n",
      "bmih9eetdw-sagemaker-local  |     \"num_gpus\": 0,\n",
      "bmih9eetdw-sagemaker-local  |     \"num_neurons\": 0,\n",
      "bmih9eetdw-sagemaker-local  |     \"output_data_dir\": \"/opt/ml/output/data\",\n",
      "bmih9eetdw-sagemaker-local  |     \"output_dir\": \"/opt/ml/output\",\n",
      "bmih9eetdw-sagemaker-local  |     \"output_intermediate_dir\": \"/opt/ml/output/intermediate\",\n",
      "bmih9eetdw-sagemaker-local  |     \"resource_config\": {\n",
      "bmih9eetdw-sagemaker-local  |         \"current_host\": \"sagemaker-local\",\n",
      "bmih9eetdw-sagemaker-local  |         \"hosts\": [\n",
      "bmih9eetdw-sagemaker-local  |             \"sagemaker-local\"\n",
      "bmih9eetdw-sagemaker-local  |         ],\n",
      "bmih9eetdw-sagemaker-local  |         \"network_interface_name\": \"eth0\",\n",
      "bmih9eetdw-sagemaker-local  |         \"current_instance_type\": \"ml.c5.xlarge\"\n",
      "bmih9eetdw-sagemaker-local  |     },\n",
      "bmih9eetdw-sagemaker-local  |     \"user_entry_point\": \"train.py\"\n",
      "bmih9eetdw-sagemaker-local  | }\n",
      "bmih9eetdw-sagemaker-local  | \n",
      "bmih9eetdw-sagemaker-local  | Environment variables:\n",
      "bmih9eetdw-sagemaker-local  | \n",
      "bmih9eetdw-sagemaker-local  | SM_HOSTS=[\"sagemaker-local\"]\n",
      "bmih9eetdw-sagemaker-local  | SM_NETWORK_INTERFACE_NAME=eth0\n",
      "bmih9eetdw-sagemaker-local  | SM_HPS={\"max_leaf_nodes\":30}\n",
      "bmih9eetdw-sagemaker-local  | SM_USER_ENTRY_POINT=train.py\n",
      "bmih9eetdw-sagemaker-local  | SM_FRAMEWORK_PARAMS={}\n",
      "bmih9eetdw-sagemaker-local  | SM_RESOURCE_CONFIG={\"current_host\":\"sagemaker-local\",\"current_instance_type\":\"ml.c5.xlarge\",\"hosts\":[\"sagemaker-local\"],\"network_interface_name\":\"eth0\"}\n",
      "bmih9eetdw-sagemaker-local  | SM_INPUT_DATA_CONFIG={\"train\":{\"TrainingInputMode\":\"File\"}}\n",
      "bmih9eetdw-sagemaker-local  | SM_OUTPUT_DATA_DIR=/opt/ml/output/data\n",
      "bmih9eetdw-sagemaker-local  | SM_CHANNELS=[\"train\"]\n",
      "bmih9eetdw-sagemaker-local  | SM_CURRENT_HOST=sagemaker-local\n",
      "bmih9eetdw-sagemaker-local  | SM_CURRENT_INSTANCE_TYPE=ml.c5.xlarge\n",
      "bmih9eetdw-sagemaker-local  | SM_CURRENT_INSTANCE_GROUP=homogeneousCluster\n",
      "bmih9eetdw-sagemaker-local  | SM_CURRENT_INSTANCE_GROUP_HOSTS=[]\n",
      "bmih9eetdw-sagemaker-local  | SM_INSTANCE_GROUPS=[]\n",
      "bmih9eetdw-sagemaker-local  | SM_INSTANCE_GROUPS_DICT={}\n",
      "bmih9eetdw-sagemaker-local  | SM_DISTRIBUTION_INSTANCE_GROUPS=[]\n",
      "bmih9eetdw-sagemaker-local  | SM_IS_HETERO=false\n",
      "bmih9eetdw-sagemaker-local  | SM_MODULE_NAME=train\n",
      "bmih9eetdw-sagemaker-local  | SM_LOG_LEVEL=20\n",
      "bmih9eetdw-sagemaker-local  | SM_FRAMEWORK_MODULE=sagemaker_sklearn_container.training:main\n",
      "bmih9eetdw-sagemaker-local  | SM_INPUT_DIR=/opt/ml/input\n",
      "bmih9eetdw-sagemaker-local  | SM_INPUT_CONFIG_DIR=/opt/ml/input/config\n",
      "bmih9eetdw-sagemaker-local  | SM_OUTPUT_DIR=/opt/ml/output\n",
      "bmih9eetdw-sagemaker-local  | SM_NUM_CPUS=8\n",
      "bmih9eetdw-sagemaker-local  | SM_NUM_GPUS=0\n",
      "bmih9eetdw-sagemaker-local  | SM_NUM_NEURONS=0\n",
      "bmih9eetdw-sagemaker-local  | SM_MODEL_DIR=/opt/ml/model\n",
      "bmih9eetdw-sagemaker-local  | SM_MODULE_DIR=/opt/ml/code\n",
      "bmih9eetdw-sagemaker-local  | SM_TRAINING_ENV={\"additional_framework_parameters\":{},\"channel_input_dirs\":{\"train\":\"/opt/ml/input/data/train\"},\"current_host\":\"sagemaker-local\",\"current_instance_group\":\"homogeneousCluster\",\"current_instance_group_hosts\":[],\"current_instance_type\":\"ml.c5.xlarge\",\"distribution_hosts\":[\"sagemaker-local\"],\"distribution_instance_groups\":[],\"framework_module\":\"sagemaker_sklearn_container.training:main\",\"hosts\":[\"sagemaker-local\"],\"hyperparameters\":{\"max_leaf_nodes\":30},\"input_config_dir\":\"/opt/ml/input/config\",\"input_data_config\":{\"train\":{\"TrainingInputMode\":\"File\"}},\"input_dir\":\"/opt/ml/input\",\"instance_groups\":[],\"instance_groups_dict\":{},\"is_hetero\":false,\"is_master\":true,\"is_modelparallel_enabled\":null,\"is_smddpmprun_installed\":false,\"is_smddprun_installed\":false,\"job_name\":\"sagemaker-scikit-learn-2025-04-17-12-44-40-253\",\"log_level\":20,\"master_hostname\":\"sagemaker-local\",\"model_dir\":\"/opt/ml/model\",\"module_dir\":\"/opt/ml/code\",\"module_name\":\"train\",\"network_interface_name\":\"eth0\",\"num_cpus\":8,\"num_gpus\":0,\"num_neurons\":0,\"output_data_dir\":\"/opt/ml/output/data\",\"output_dir\":\"/opt/ml/output\",\"output_intermediate_dir\":\"/opt/ml/output/intermediate\",\"resource_config\":{\"current_host\":\"sagemaker-local\",\"current_instance_type\":\"ml.c5.xlarge\",\"hosts\":[\"sagemaker-local\"],\"network_interface_name\":\"eth0\"},\"user_entry_point\":\"train.py\"}\n",
      "bmih9eetdw-sagemaker-local  | SM_USER_ARGS=[\"--max_leaf_nodes\",\"30\"]\n",
      "bmih9eetdw-sagemaker-local  | SM_OUTPUT_INTERMEDIATE_DIR=/opt/ml/output/intermediate\n",
      "bmih9eetdw-sagemaker-local  | SM_CHANNEL_TRAIN=/opt/ml/input/data/train\n",
      "bmih9eetdw-sagemaker-local  | SM_HP_MAX_LEAF_NODES=30\n",
      "bmih9eetdw-sagemaker-local  | PYTHONPATH=/opt/ml/code:/miniconda3/bin:/miniconda3/lib/python39.zip:/miniconda3/lib/python3.9:/miniconda3/lib/python3.9/lib-dynload:/miniconda3/lib/python3.9/site-packages:/miniconda3/lib/python3.9/site-packages/setuptools/_vendor\n",
      "bmih9eetdw-sagemaker-local  | \n",
      "bmih9eetdw-sagemaker-local  | Invoking script with the following command:\n",
      "bmih9eetdw-sagemaker-local  | \n",
      "bmih9eetdw-sagemaker-local  | /miniconda3/bin/python train.py --max_leaf_nodes 30\n",
      "bmih9eetdw-sagemaker-local  | \n",
      "bmih9eetdw-sagemaker-local  | \n",
      "bmih9eetdw-sagemaker-local  | 2025-04-17 12:44:55,617 sagemaker-training-toolkit INFO     Exceptions not imported for SageMaker Debugger as it is not installed.\n",
      "bmih9eetdw-sagemaker-local  | 2025-04-17 12:44:55,617 sagemaker-training-toolkit INFO     Exceptions not imported for SageMaker TF as Tensorflow is not installed.\n",
      "bmih9eetdw-sagemaker-local  | RuntimeError: CPU dispatcher tracer already initlized\n",
      "bmih9eetdw-sagemaker-local  | 2025/04/17 12:44:57 WARNING mlflow.sklearn.utils: Failed to import matplotlib (error: ImportError('numpy._core.multiarray failed to import')). Skipping artifact logging.\n",
      "bmih9eetdw-sagemaker-local  | 2025/04/17 12:45:01 INFO mlflow.tracking._tracking_service.client: 🏃 View run Local-Training at: https://us-west-2.experiments.sagemaker.aws/#/experiments/1/runs/02298611f9a345739fc6d0c6a7c1d626.\n",
      "bmih9eetdw-sagemaker-local  | 2025/04/17 12:45:01 INFO mlflow.tracking._tracking_service.client: 🧪 View experiment at: https://us-west-2.experiments.sagemaker.aws/#/experiments/1.\n",
      "bmih9eetdw-sagemaker-local  | 2025-04-17 12:45:02,338 sagemaker-containers INFO     Reporting training SUCCESS\n",
      "\u001b[Kbmih9eetdw-sagemaker-local exited with code 0\n",
      "Aborting on container exit...\n",
      " Container bmih9eetdw-sagemaker-local  Stopping\n",
      " Container bmih9eetdw-sagemaker-local  Stopped\n"
     ]
    },
    {
     "data": {
      "text/html": [
       "<pre style=\"white-space:pre;overflow-x:auto;line-height:normal;font-family:Menlo,'DejaVu Sans Mono',consolas,'Courier New',monospace\"><span style=\"color: #7fbfbf; text-decoration-color: #7fbfbf\">[04/17/25 12:45:02] </span><span style=\"color: #0069ff; text-decoration-color: #0069ff; font-weight: bold\">INFO    </span> ===== Job Complete =====                                                  <a href=\"file:///opt/conda/lib/python3.11/site-packages/sagemaker/local/image.py\" target=\"_blank\"><span style=\"color: #7f7f7f; text-decoration-color: #7f7f7f\">image.py</span></a><span style=\"color: #7f7f7f; text-decoration-color: #7f7f7f\">:</span><a href=\"file:///opt/conda/lib/python3.11/site-packages/sagemaker/local/image.py#325\" target=\"_blank\"><span style=\"color: #7f7f7f; text-decoration-color: #7f7f7f\">325</span></a>\n",
       "</pre>\n"
      ],
      "text/plain": [
       "\u001b[2;36m[04/17/25 12:45:02]\u001b[0m\u001b[2;36m \u001b[0m\u001b[1;38;2;0;105;255mINFO    \u001b[0m ===== Job Complete =====                                                  \u001b]8;id=794215;file:///opt/conda/lib/python3.11/site-packages/sagemaker/local/image.py\u001b\\\u001b[2mimage.py\u001b[0m\u001b]8;;\u001b\\\u001b[2m:\u001b[0m\u001b]8;id=676699;file:///opt/conda/lib/python3.11/site-packages/sagemaker/local/image.py#325\u001b\\\u001b[2m325\u001b[0m\u001b]8;;\u001b\\\n"
      ]
     },
     "metadata": {},
     "output_type": "display_data"
    }
   ],
   "source": [
    "from sagemaker.local import LocalSession\n",
    "\n",
    "LOCAL_SESSION = LocalSession()\n",
    "LOCAL_SESSION.config = {'local': {'local_code': True}}  # Ensure full code locality, see: https://sagemaker.readthedocs.io/en/stable/overview.html#local-mode\n",
    "\n",
    "\n",
    "sklearn_local = SKLearn(\n",
    "    entry_point=\"train.py\",\n",
    "    source_dir=\"training_code\",\n",
    "    framework_version=\"1.2-1\",\n",
    "    instance_type=\"ml.c5.xlarge\",\n",
    "    role=role,\n",
    "    sagemaker_session=LOCAL_SESSION,\n",
    "    hyperparameters={\"max_leaf_nodes\": 30},\n",
    "    keep_alive_period_in_seconds=3600,\n",
    "    environment={\n",
    "        \"MLFLOW_TRACKING_URI\": mlflow_server_arn,\n",
    "        \"MODE\": \"local-mode\",\n",
    "        \"LOGNAME\": user_profile_name,\n",
    "        \"MLFLOW_EXPERIMENT_NAME\": mlflow_experiment_name\n",
    "    },\n",
    ")\n",
    "\n",
    "sklearn_local.fit({\"train\": train_input})"
   ]
  },
  {
   "cell_type": "code",
   "execution_count": 25,
   "id": "ea5bf9ef-0840-4cec-8bda-15e53120b702",
   "metadata": {},
   "outputs": [],
   "source": [
    "experiment_id = mlflow.get_experiment_by_name(mlflow_experiment_name).experiment_id\n",
    "# get the last run in MLflow\n",
    "last_run_id = mlflow.search_runs(\n",
    "    experiment_ids=[experiment_id], \n",
    "    max_results=1, \n",
    "    order_by=[\"attributes.start_time DESC\"]\n",
    ")['run_id'][0]\n",
    "\n",
    "\n",
    "mlflow_run_link = f\"{presigned_url.split('/auth')[0]}/#/experiments/{experiment_id}/runs/{last_run_id}\""
   ]
  },
  {
   "cell_type": "code",
   "execution_count": 26,
   "id": "c328fa79-0930-477d-8201-a12b60686aed",
   "metadata": {},
   "outputs": [
    {
     "data": {
      "application/javascript": [
       "window.open(\"https://t-olidttmc8c2z.us-west-2.experiments.sagemaker.aws/#/experiments/1/runs/02298611f9a345739fc6d0c6a7c1d626\");"
      ],
      "text/plain": [
       "<IPython.core.display.Javascript object>"
      ]
     },
     "metadata": {},
     "output_type": "display_data"
    }
   ],
   "source": [
    "display(Javascript('window.open(\"{}\");'.format(mlflow_run_link)))"
   ]
  },
  {
   "cell_type": "markdown",
   "id": "f61ca4c8-6ff2-4b31-87ff-c472d8db3246",
   "metadata": {},
   "source": [
    "Run in the managed infrastructure mode and log to the MLflow tracking server"
   ]
  },
  {
   "cell_type": "code",
   "execution_count": null,
   "id": "5c71f310-2d9f-459d-8bcd-0e9c3d0ec53c",
   "metadata": {},
   "outputs": [],
   "source": [
    "sklearn = SKLearn(\n",
    "    entry_point=\"train.py\",\n",
    "    source_dir=\"training_code\",\n",
    "    framework_version=\"1.2-1\",\n",
    "    instance_type=\"ml.c5.xlarge\",\n",
    "    role=role,\n",
    "    sagemaker_session=sagemaker_session,\n",
    "    hyperparameters={\"max_leaf_nodes\": 30},\n",
    "    keep_alive_period_in_seconds=3600,\n",
    "    environment={\n",
    "        \"MLFLOW_TRACKING_URI\": mlflow_server_arn,\n",
    "        \"LOGNAME\": user_profile_name,\n",
    "        \"MLFLOW_EXPERIMENT_NAME\": mlflow_experiment_name\n",
    "    },\n",
    ")\n",
    "\n",
    "sklearn.fit({\"train\": train_input})"
   ]
  },
  {
   "cell_type": "code",
   "execution_count": null,
   "id": "48c1cee9-0664-4197-b282-ba595376521e",
   "metadata": {},
   "outputs": [],
   "source": [
    "# get the last run in MLflow\n",
    "last_run_id = mlflow.search_runs(\n",
    "    experiment_ids=[mlflow.get_experiment_by_name(\"Default\").experiment_id], \n",
    "    max_results=1, \n",
    "    order_by=[\"attributes.start_time DESC\"]\n",
    ")['run_id'][0]\n",
    "\n",
    "mlflow_run_link = f\"{presigned_url.split('/auth')[0]}/#/experiments/0/runs/{last_run_id}\"\n",
    "\n",
    "# second open the run page in the MLflow UI\n",
    "display(Javascript('window.open(\"{}\");'.format(mlflow_run_link)))"
   ]
  },
  {
   "cell_type": "code",
   "execution_count": null,
   "id": "0c5eb8e9-1e06-4074-a454-fc13dcd413e4",
   "metadata": {},
   "outputs": [],
   "source": [
    "# get the last run in MLflow\n",
    "last_run_id = mlflow.search_runs(\n",
    "    experiment_ids=[experiment_id], \n",
    "    max_results=1, \n",
    "    order_by=[\"attributes.start_time DESC\"]\n",
    ")['run_id'][0]\n",
    "\n",
    "mlflow_run_link = f\"{presigned_url.split('/auth')[0]}/#/experiments/{experiment_id}/runs/{last_run_id}\""
   ]
  },
  {
   "cell_type": "code",
   "execution_count": null,
   "id": "30f9f1e9-2b79-4631-9a65-49f276e7d324",
   "metadata": {},
   "outputs": [],
   "source": [
    "display(Javascript('window.open(\"{}\");'.format(mlflow_run_link)))"
   ]
  },
  {
   "cell_type": "markdown",
   "id": "332b3828-e3bf-49c2-835d-403d6d0c4708",
   "metadata": {},
   "source": [
    "## Registering a MLflow model "
   ]
  },
  {
   "cell_type": "code",
   "execution_count": 27,
   "id": "e0d665ed-118f-42a7-9c20-719bb66b5fd4",
   "metadata": {},
   "outputs": [
    {
     "name": "stderr",
     "output_type": "stream",
     "text": [
      "Successfully registered model 'sm-immersion-day-model'.\n",
      "2025/04/17 12:48:51 INFO mlflow.store.model_registry.abstract_store: Waiting up to 300 seconds for model version to finish creation. Model name: sm-immersion-day-model, version 1\n",
      "Created version '1' of model 'sm-immersion-day-model'.\n"
     ]
    }
   ],
   "source": [
    "registered_model_name = \"sm-immersion-day-model\"\n",
    "\n",
    "# construct the model URI\n",
    "model_uri = f\"runs:/{last_run_id}/model\"\n",
    "\n",
    "# register the model\n",
    "registered_model_version = mlflow.register_model(model_uri, registered_model_name)"
   ]
  },
  {
   "cell_type": "code",
   "execution_count": 28,
   "id": "f50b7abd-fe03-4f4a-973c-99999e065593",
   "metadata": {},
   "outputs": [],
   "source": [
    "# get SageMaker model registry data for this model version\n",
    "model_package_group_name = sm_client.list_model_package_groups(NameContains=registered_model_name)['ModelPackageGroupSummaryList'][0]['ModelPackageGroupName']\n",
    "sm_model_package = sm_client.list_model_packages(\n",
    "        ModelPackageGroupName=model_package_group_name,\n",
    "        SortBy=\"CreationTime\",\n",
    "        SortOrder=\"Descending\",\n",
    "    )['ModelPackageSummaryList'][0]\n",
    "\n"
   ]
  },
  {
   "cell_type": "code",
   "execution_count": 29,
   "id": "53688614-07f5-4e61-84f2-d5e3c1fcf926",
   "metadata": {},
   "outputs": [
    {
     "data": {
      "text/plain": [
       "{'ModelPackageGroupName': 'sm-immersion-day-model-3b64ed',\n",
       " 'ModelPackageVersion': 1,\n",
       " 'ModelPackageArn': 'arn:aws:sagemaker:us-west-2:975049911976:model-package/sm-immersion-day-model-3b64ed/1',\n",
       " 'CreationTime': datetime.datetime(2025, 4, 17, 12, 48, 51, 131000, tzinfo=tzlocal()),\n",
       " 'ModelPackageStatus': 'Completed'}"
      ]
     },
     "execution_count": 29,
     "metadata": {},
     "output_type": "execute_result"
    }
   ],
   "source": [
    "sm_model_package"
   ]
  },
  {
   "cell_type": "code",
   "execution_count": 30,
   "id": "a8ddffac-14e6-4f94-b7a7-bdb08612af97",
   "metadata": {},
   "outputs": [
    {
     "data": {
      "text/plain": [
       "{'ModelPackageArn': 'arn:aws:sagemaker:us-west-2:975049911976:model-package/sm-immersion-day-model-3b64ed/1',\n",
       " 'ResponseMetadata': {'RequestId': 'd0993b01-8ffc-4957-875b-245782574803',\n",
       "  'HTTPStatusCode': 200,\n",
       "  'HTTPHeaders': {'x-amzn-requestid': 'd0993b01-8ffc-4957-875b-245782574803',\n",
       "   'content-type': 'application/x-amz-json-1.1',\n",
       "   'content-length': '108',\n",
       "   'date': 'Thu, 17 Apr 2025 12:49:53 GMT'},\n",
       "  'RetryAttempts': 0}}"
      ]
     },
     "execution_count": 30,
     "metadata": {},
     "output_type": "execute_result"
    }
   ],
   "source": [
    "model_approval_status = 'PendingManualApproval'\n",
    "\n",
    "# update SageMaker model version with mlflow cross-reference\n",
    "sm_client.update_model_package(\n",
    "        ModelPackageArn=sm_model_package['ModelPackageArn'],\n",
    "        ModelApprovalStatus=model_approval_status,\n",
    "        ApprovalDescription=\"created a new model version\",\n",
    "        CustomerMetadataProperties={\n",
    "            \"mlflow_model_name\": registered_model_version.name,\n",
    "            \"mlflow_model_uri\": model_uri,\n",
    "            \"mlflow_experiment_name\": mlflow_experiment_name,\n",
    "        },\n",
    ")\n"
   ]
  },
  {
   "cell_type": "code",
   "execution_count": 33,
   "id": "19ac6588-fa92-4af8-b52f-ff117ca38343",
   "metadata": {},
   "outputs": [
    {
     "data": {
      "text/html": [
       "<b>See <a target=\"top\" href=\"https://studio-d-vuu8gn51m6ef.studio.us-west-2.sagemaker.aws/models/registered-models/sm-immersion-day-model-3b64ed/versions\">the model package group</a> in the Studio UI</b>"
      ],
      "text/plain": [
       "<IPython.core.display.HTML object>"
      ]
     },
     "metadata": {},
     "output_type": "display_data"
    }
   ],
   "source": [
    "\n",
    "\n",
    "# Show the model registry link\n",
    "display(\n",
    "    HTML('<b>See <a target=\"top\" href=\"https://studio-{}.studio.{}.sagemaker.aws/models/registered-models/{}/versions\">the model package group</a> in the Studio UI</b>'.format(\n",
    "            domain_id, region, model_package_group_name))\n",
    ")\n",
    "\n"
   ]
  },
  {
   "cell_type": "code",
   "execution_count": null,
   "id": "6bb33cc5-c508-47cc-9278-ed7f2499ee04",
   "metadata": {},
   "outputs": [],
   "source": []
  }
 ],
 "metadata": {
  "kernelspec": {
   "display_name": "Python 3 (ipykernel)",
   "language": "python",
   "name": "python3"
  },
  "language_info": {
   "codemirror_mode": {
    "name": "ipython",
    "version": 3
   },
   "file_extension": ".py",
   "mimetype": "text/x-python",
   "name": "python",
   "nbconvert_exporter": "python",
   "pygments_lexer": "ipython3",
   "version": "3.11.11"
  }
 },
 "nbformat": 4,
 "nbformat_minor": 5
}
