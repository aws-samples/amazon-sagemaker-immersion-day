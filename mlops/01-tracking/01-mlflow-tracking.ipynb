{
 "cells": [
  {
   "cell_type": "markdown",
   "id": "f9927463-acfe-49b2-9658-8e4d5863ed4f",
   "metadata": {},
   "source": [
    "# SageMaker Training with MLflow\n",
    "\n",
    "<div class=\"alert alert-block alert-info\">\n",
    "⚠️ The latest SageMaker Distribution image version known to work with this notebook is <code>3.1.0</code>. If you encounter problems with other versions, please downgrade to version <code>3.1.0</code>. <b>To do so, you must stop your JupyterApp, downgrade the SageMaker Distribution image to <code>3.1.0</code> and restart the JupyterLabApp for the changes to take effect</b>.</div>\n",
    "\n",
    "<div class=\"alert alert-warning\"> This notebook expects an instance of SageMaker Managed MLflow running.</div>\n",
    "\n",
    "In this lab, we show how you can use SageMaker Managed MLflow for experimentation tracking.\n",
    "We will show a few scenarios, mimic the workflow of a data scientist that first develops locally training functions or training scripts to test algorithms before using the SageMaker Managed infrastructure to run remote jobs.\n",
    "\n",
    "## Setup environment\n",
    "\n",
    "install the necessary libraries. We use the `mlflow` version `2.22.1`.\n",
    "In order to log data to MLflow, we need to install the [`sagemaker-mlflow`](https://github.com/aws/sagemaker-mlflow) plugin.\n",
    "This plugin generates Signature V4 headers in each outgoing request to the Amazon SageMaker with MLflow capability, determines the URL of capability to connect to tracking servers, and registers models to the SageMaker Model Registry.\n",
    "It generates a token with the SigV4 Algorithm that the service will use to conduct Authentication and Authorization using AWS IAM.\n",
    "\n",
    "Using the plugin allows you to use transparently the `mlflow` client SDK without any further modifications to log securely your metadata and artifacts to the SageMaker Managed MLflow."
   ]
  },
  {
   "cell_type": "code",
   "execution_count": null,
   "id": "dde47e9f-bfc4-48be-8f2f-49ed29360515",
   "metadata": {},
   "outputs": [],
   "source": [
    "!pip install -q sagemaker[local] mlflow==2.22.1 sagemaker-mlflow"
   ]
  },
  {
   "cell_type": "markdown",
   "id": "2f5e1903-f68f-4b06-8df7-9c6478bc4c8d",
   "metadata": {},
   "source": [
    "Import the necessary libraries and initialize client SDKs"
   ]
  },
  {
   "cell_type": "code",
   "execution_count": null,
   "id": "a9df3452-d7a2-4aa4-b75c-1e1289b9fbe2",
   "metadata": {},
   "outputs": [],
   "source": [
    "import sagemaker\n",
    "from sagemaker import get_execution_role\n",
    "from sagemaker.sklearn.estimator import SKLearn\n",
    "\n",
    "import boto3\n",
    "import numpy as np\n",
    "import pandas as pd\n",
    "import os\n",
    "import json\n",
    "\n",
    "from IPython.display import Javascript, HTML\n",
    "\n",
    "# Define session, role, and region so we can\n",
    "# perform any SageMaker tasks we need\n",
    "boto_session = boto3.Session()\n",
    "sagemaker_session = sagemaker.Session()\n",
    "role = get_execution_role()\n",
    "region = sagemaker_session.boto_region_name\n",
    "sm_client = boto_session.client(\"sagemaker\")\n",
    "\n",
    "sagemaker.__version__"
   ]
  },
  {
   "cell_type": "markdown",
   "id": "926b4891-c9ab-4e8d-a7dd-0ba357d01e0a",
   "metadata": {},
   "source": [
    "We now extract information about the SageMaker DOmain and Space where we are working.\n",
    "It they will become useful later for logging more precise information about which `user-profile` has logged specific MLflow runs."
   ]
  },
  {
   "cell_type": "code",
   "execution_count": null,
   "id": "83521dbb-f840-4ead-af51-13afcf4be5c7",
   "metadata": {},
   "outputs": [],
   "source": [
    "NOTEBOOK_METADATA_FILE = \"/opt/ml/metadata/resource-metadata.json\"\n",
    "domain_id = None\n",
    "\n",
    "if os.path.exists(NOTEBOOK_METADATA_FILE):\n",
    "    with open(NOTEBOOK_METADATA_FILE, \"rb\") as f:\n",
    "        metadata = json.loads(f.read())\n",
    "        domain_id = metadata.get('DomainId')\n",
    "        space_name = metadata.get('SpaceName')\n",
    "\n",
    "if not space_name:\n",
    "    raise Exception(f\"Cannot find the current domain. Make sure you run this notebook in a JupyterLab in the SageMaker AI Studio\")\n",
    "else:\n",
    "    print(f\"SageMaker domain id: {domain_id}\")\n",
    "\n",
    "if not space_name:\n",
    "    raise Exception(f\"Cannot find the current space name. Make sure you run this notebook in a JupyterLab in the SageMaker Studio\")\n",
    "else:\n",
    "    print(f\"Space name: {space_name}\")\n",
    "    \n",
    "r = sm_client.describe_space(DomainId=domain_id, SpaceName=space_name)\n",
    "user_profile_name = r['OwnershipSettings']['OwnerUserProfileName']\n",
    "\n",
    "print(f\"User profile name: {user_profile_name}\")"
   ]
  },
  {
   "cell_type": "markdown",
   "id": "4c442095-85ef-4752-ad6d-40d87f009290",
   "metadata": {},
   "source": [
    "For local development, it is useful to have a reference of which SageMaker Distribution Image we are using.\n",
    "You can find this information as rescribed below"
   ]
  },
  {
   "cell_type": "code",
   "execution_count": null,
   "id": "9c4e9957-2a89-4c16-8669-982b0867e689",
   "metadata": {},
   "outputs": [],
   "source": [
    "r = sm_client.describe_space(DomainId=domain_id, SpaceName=space_name)\n",
    "resource_spec = r['SpaceSettings']['JupyterLabAppSettings']['DefaultResourceSpec']\n",
    "sm_image = resource_spec.get('SageMakerImageArn', 'not defined')\n",
    "sm_image_version = resource_spec.get('SageMakerImageVersionAlias', 'not defined')\n",
    "print(f\"\"\"\n",
    "SageMaker image: \\033[1m{sm_image}\\033[0m\n",
    "SageMaker image version: \\033[1m{sm_image_version}\\033[0m\n",
    "\"\"\")\n"
   ]
  },
  {
   "cell_type": "markdown",
   "id": "bbb73512-3e3b-447b-a01b-0b706dc54ab5",
   "metadata": {},
   "source": [
    "Full details of the space where we are operation can be found as follow"
   ]
  },
  {
   "cell_type": "code",
   "execution_count": null,
   "id": "a8f97704-3f93-4aa5-9454-b58d4aa4dbe4",
   "metadata": {},
   "outputs": [],
   "source": [
    "import pprint\n",
    "\n",
    "pp = pprint.PrettyPrinter(indent=2)\n",
    "pp.pprint(r)"
   ]
  },
  {
   "cell_type": "markdown",
   "id": "047ce23c-a972-4cb0-acf9-7a2ff6c73937",
   "metadata": {},
   "source": [
    "## MLflow tracking server\n",
    "\n",
    "If running at an AWS led event, the MLflow tracking server has already been provisioned to you.\n",
    "Alternatively, make sure you have run the CloudFormation template to create the necessary infrastructure, including the MLflow tracking server."
   ]
  },
  {
   "cell_type": "code",
   "execution_count": null,
   "id": "dd30f354-b3b8-4d0a-85a7-263266cee97d",
   "metadata": {},
   "outputs": [],
   "source": [
    "# Find an active MLflow server in the account\n",
    "tracking_servers = [s['TrackingServerArn'] for s \n",
    "                    in sm_client.list_mlflow_tracking_servers()['TrackingServerSummaries']\n",
    "                    if s['IsActive'] == 'Active']\n",
    "\n",
    "if len(tracking_servers) < 1:\n",
    "    print(\"You don't have any active MLflow servers. Trying to find a server in the status 'Creating'...\")\n",
    "\n",
    "    r = sm_client.list_mlflow_tracking_servers(\n",
    "        TrackingServerStatus='Creating',\n",
    "    )['TrackingServerSummaries']\n",
    "\n",
    "    if len(r) < 1:\n",
    "        print(\"You don't have any MLflow server in the status 'Creating'. Run the next code cell to create a new one.\")\n",
    "        mlflow_server_arn = None\n",
    "        mlflow_name = None\n",
    "    else:\n",
    "        mlflow_server_arn = r[0]['TrackingServerArn']\n",
    "        mlflow_name = r[0]['TrackingServerName']\n",
    "        print(f\"You have an MLflow server {mlflow_server_arn} in the status 'Creating', going to use this one\")\n",
    "else:\n",
    "    mlflow_server_arn = tracking_servers[0]\n",
    "    mlflow_name = tracking_servers[0].split('/')[1]\n",
    "    print(f\"You have {len(tracking_servers)} running MLflow server(s). Get the first server ARN:{mlflow_server_arn}\")\n",
    "\n",
    "mlflow_experiment_name = \"sm-immersion-day-experiment\""
   ]
  },
  {
   "cell_type": "markdown",
   "id": "bf00470b-7b08-42f0-845d-2bef9d38ee21",
   "metadata": {},
   "source": [
    "## Data Preparation\n",
    "\n",
    "Let's download the save the Iris dataset and save them in the `./data` folder"
   ]
  },
  {
   "cell_type": "code",
   "execution_count": null,
   "id": "44ebbf07-b44d-4246-bf0f-dacb6a89b6c7",
   "metadata": {},
   "outputs": [],
   "source": [
    "os.makedirs(\"./data\", exist_ok=True)\n",
    "\n",
    "s3_client = boto3.client(\"s3\")\n",
    "s3_client.download_file(\n",
    "    f\"sagemaker-example-files-prod-{region}\", \"datasets/tabular/iris/iris.data\", \"./data/iris.csv\"\n",
    ")\n",
    "\n",
    "df_iris = pd.read_csv(\"./data/iris.csv\", header=None)\n",
    "df_iris[4] = df_iris[4].map({\"Iris-setosa\": 0, \"Iris-versicolor\": 1, \"Iris-virginica\": 2})\n",
    "iris = df_iris[[4, 0, 1, 2, 3]].to_numpy()\n",
    "np.savetxt(\"./data/iris.csv\", iris, delimiter=\",\", fmt=\"%1.1f, %1.3f, %1.3f, %1.3f, %1.3f\")\n"
   ]
  },
  {
   "cell_type": "code",
   "execution_count": null,
   "id": "dafeafbd-a635-4e33-b522-cf18b2481e9b",
   "metadata": {},
   "outputs": [],
   "source": [
    "# S3 prefix for the training dataset to be uploaded to\n",
    "prefix = \"DEMO-scikit-iris\"\n",
    "\n",
    "WORK_DIRECTORY = \"data\"\n",
    "\n",
    "train_input = sagemaker_session.upload_data(\n",
    "    WORK_DIRECTORY, key_prefix=\"{}/{}\".format(prefix, WORK_DIRECTORY)\n",
    ")"
   ]
  },
  {
   "cell_type": "markdown",
   "id": "175dbb0b-d2cb-4965-b124-7131e66d07b4",
   "metadata": {},
   "source": [
    "Prepare the folder for the training code"
   ]
  },
  {
   "cell_type": "code",
   "execution_count": null,
   "id": "55d7bc08-0d13-442a-ad0a-07a3f730a3b1",
   "metadata": {},
   "outputs": [],
   "source": [
    "!mkdir -p training_code"
   ]
  },
  {
   "cell_type": "markdown",
   "id": "10dded34-a10d-4ea7-a293-cf2acf7c4dec",
   "metadata": {},
   "source": [
    "store the training data in a Pandas DataFrame"
   ]
  },
  {
   "cell_type": "code",
   "execution_count": null,
   "id": "924d85b3-eb4a-4240-a56a-0378da9878e2",
   "metadata": {},
   "outputs": [],
   "source": [
    "train_data = pd.read_csv('./data/iris.csv', header=None, engine=\"python\")"
   ]
  },
  {
   "cell_type": "markdown",
   "id": "af04849e-8b55-428f-9c8d-f591b191883c",
   "metadata": {},
   "source": [
    "## Remote function execution\n",
    "\n",
    "First execute the training function locally. Please note the `@remote` decorator commented out on top of the function definition. WHen defined like below, this is just a regular python function that can be executed on your local run-time environment.\n",
    "We set the `MLFLOW_TRACKING_URI` ENV variable to the `mlflow_server_arn`, so the client will log to the remote MLflow Tracking server.\n",
    "Setting the `LOGNAME` ENV variable on the other end, will make it easier to identify the user that is logging a run."
   ]
  },
  {
   "cell_type": "code",
   "execution_count": null,
   "id": "f318a9c0-3526-4daa-ba8a-03f905cdffbb",
   "metadata": {},
   "outputs": [],
   "source": [
    "os.environ['MLFLOW_TRACKING_URI'] = mlflow_server_arn\n",
    "os.environ[\"LOGNAME\"] = user_profile_name\n",
    "os.environ[\"MLFLOW_EXPERIMENT_NAME\"] = mlflow_experiment_name\n",
    "\n",
    "# define a local function\n",
    "# @remote\n",
    "def train(train_data, max_leaf_nodes, run_name='Training-local-function-execution'):\n",
    "    import mlflow\n",
    "    from mlflow.models import infer_signature\n",
    "    from sklearn import tree\n",
    "    import pandas as pd\n",
    "\n",
    "    # Enable autologging in MLflow for SKlearn\n",
    "    mlflow.sklearn.autolog()\n",
    "\n",
    "    with mlflow.start_run(run_name=run_name) as run:\n",
    "        # labels are in the first column\n",
    "        train_y = train_data.iloc[:, 0]\n",
    "        train_X = train_data.iloc[:, 1:]\n",
    "\n",
    "        # Here we support a single hyperparameter, 'max_leaf_nodes'. Note that you can add as many\n",
    "        # as your training my require in the ArgumentParser above.\n",
    "\n",
    "        # Now use scikit-learn's decision tree classifier to train the model.\n",
    "        clf = tree.DecisionTreeClassifier(max_leaf_nodes=max_leaf_nodes)\n",
    "        clf = clf.fit(train_X, train_y)\n",
    "\n",
    "        predictions = clf.predict(train_X)\n",
    "        signature = infer_signature(train_X, predictions)\n",
    "\n",
    "        mlflow.set_tags(\n",
    "            {\n",
    "                'mlflow.source.name': \"def train(...)\",\n",
    "                'mlflow.source.type': 'LOCAL',\n",
    "            }\n",
    "        )\n",
    "\n",
    "        mlflow.sklearn.log_model(clf, \"model\", signature=signature)"
   ]
  },
  {
   "cell_type": "code",
   "execution_count": null,
   "id": "fbe9a8a4-a7cf-43b6-a544-9655ebaf617d",
   "metadata": {},
   "outputs": [],
   "source": [
    "train(train_data, 5)"
   ]
  },
  {
   "cell_type": "markdown",
   "id": "be565f26-decd-4c14-bcb4-5786e6ddad35",
   "metadata": {},
   "source": [
    "Let's now verify the details of the run logged to SageMaker AI Managed MLflow."
   ]
  },
  {
   "cell_type": "code",
   "execution_count": null,
   "id": "5d5c6c97-2d2c-41cf-ab58-edcd14906b36",
   "metadata": {},
   "outputs": [],
   "source": [
    "import mlflow\n",
    "\n",
    "experiment_id = mlflow.get_experiment_by_name(mlflow_experiment_name).experiment_id\n",
    "# get the last run in MLflow\n",
    "last_run_id = mlflow.search_runs(\n",
    "    experiment_ids=[experiment_id], \n",
    "    max_results=1, \n",
    "    order_by=[\"attributes.start_time DESC\"]\n",
    ")['run_id'][0]\n",
    "\n",
    "# get the presigned url to open the MLflow UI\n",
    "presigned_url = sm_client.create_presigned_mlflow_tracking_server_url(\n",
    "    TrackingServerName=mlflow_name,\n",
    "    ExpiresInSeconds=60,\n",
    "    SessionExpirationDurationInSeconds=1800\n",
    ")['AuthorizedUrl']\n",
    "\n",
    "mlflow_run_link = f\"{presigned_url.split('/auth')[0]}/#/experiments/{experiment_id}/runs/{last_run_id}\""
   ]
  },
  {
   "cell_type": "markdown",
   "id": "1f0ac435-87e1-4aa7-bc45-ac10f23caaf9",
   "metadata": {},
   "source": [
    "We first need to open the presigned URL"
   ]
  },
  {
   "cell_type": "code",
   "execution_count": null,
   "id": "94a4e893-518c-45fe-b59c-3193db41cd18",
   "metadata": {},
   "outputs": [],
   "source": [
    "# first open the MLflow UI - you can close a new opened window\n",
    "display(Javascript('window.open(\"{}\");'.format(presigned_url)))"
   ]
  },
  {
   "cell_type": "markdown",
   "id": "c14f5bb1-c08c-48ec-917c-a616b50ed0b1",
   "metadata": {},
   "source": [
    "And then we can open the details of the last logged run"
   ]
  },
  {
   "cell_type": "code",
   "execution_count": null,
   "id": "6b17ca22-a50b-422b-b2cc-cc4d705ac0ca",
   "metadata": {},
   "outputs": [],
   "source": [
    "display(Javascript('window.open(\"{}\");'.format(mlflow_run_link)))"
   ]
  },
  {
   "cell_type": "markdown",
   "id": "6183e301-59fb-46d3-9835-86ff1917b478",
   "metadata": {},
   "source": [
    "Now lets get ready to execute this function as a SageMaker Training job in the managed infrastructure.\n",
    "We first define the dependencies in a `requirements.txt` file."
   ]
  },
  {
   "cell_type": "code",
   "execution_count": null,
   "id": "9032e854-0ea2-41b0-80b2-0277d3a104a9",
   "metadata": {},
   "outputs": [],
   "source": [
    "%%writefile training_code/requirements.txt\n",
    "mlflow==2.22.1\n",
    "sagemaker-mlflow==0.1.0"
   ]
  },
  {
   "cell_type": "markdown",
   "id": "fec5cb5b-cded-40f4-8b2f-ccaef187ff72",
   "metadata": {},
   "source": [
    "We then prepare a `config.yml` file that holds the configurations we want for the training job.\n",
    "Full details about which options can be configured for the `@remote` decorator can be found in the [official documentation](https://docs.aws.amazon.com/sagemaker/latest/dg/train-remote-decorator-config.html).\n",
    "In this case, note how we are also passing the `MLFLOW_TRACKING_URI` ENV variable so to avoid to always set the tracking server uri, and the `user_profile_name` as the `LOGNAME` to keep track of who has created what."
   ]
  },
  {
   "cell_type": "code",
   "execution_count": null,
   "id": "2c85e7f4-8ea1-4b5c-9b3d-bde48278a9f6",
   "metadata": {},
   "outputs": [],
   "source": [
    "config_yaml = f\"\"\"\n",
    "SchemaVersion: '1.0'\n",
    "SageMaker:\n",
    "  PythonSDK:\n",
    "    Modules:\n",
    "      TelemetryOptOut: true\n",
    "      RemoteFunction:\n",
    "        # role arn is not required if in SageMaker Notebook instance or SageMaker Studio\n",
    "        # Uncomment the following line and replace with the right execution role if in a local IDE\n",
    "        # RoleArn: <replace the role arn here>\n",
    "        InstanceType: ml.m5.xlarge\n",
    "        EnvironmentVariables: {{'MLFLOW_TRACKING_URI': {mlflow_server_arn}, 'LOGNAME': {user_profile_name}, 'MLFLOW_EXPERIMENT_NAME': {mlflow_experiment_name}}}\n",
    "        Dependencies: ./training_code/requirements.txt\n",
    "        IncludeLocalWorkDir: false\n",
    "        CustomFileFilter:\n",
    "          IgnoreNamePatterns:\n",
    "          - \"data/*\"\n",
    "          - \"models/*\"\n",
    "          - \"*.ipynb\"\n",
    "          - \"__pycache__\"\n",
    "\n",
    "\"\"\"\n",
    "\n",
    "print(config_yaml, file=open('config.yaml', 'w'))\n",
    "print(config_yaml)"
   ]
  },
  {
   "cell_type": "code",
   "execution_count": null,
   "id": "5a0f738c-b4f0-4de3-a0b7-0faa7595cfae",
   "metadata": {},
   "outputs": [],
   "source": [
    "import os\n",
    "\n",
    "# Use the current working directory as the location for SageMaker Python SDK config file\n",
    "os.environ[\"SAGEMAKER_USER_CONFIG_OVERRIDE\"] = os.getcwd()"
   ]
  },
  {
   "cell_type": "code",
   "execution_count": null,
   "id": "41e82982-f7af-4038-ad27-612fbd22c577",
   "metadata": {},
   "outputs": [],
   "source": [
    "from sagemaker.remote_function import remote\n",
    "\n",
    "# define a local function\n",
    "@remote\n",
    "def train(train_data, max_leaf_nodes, run_name='Training-remote-function-execution'):\n",
    "    import mlflow\n",
    "    from mlflow.models import infer_signature\n",
    "    from sklearn import tree\n",
    "    import pandas as pd\n",
    "\n",
    "    # Enable autologging in MLflow for SKlearn\n",
    "    mlflow.sklearn.autolog()\n",
    "\n",
    "    with mlflow.start_run(run_name=run_name) as run:\n",
    "        # labels are in the first column\n",
    "        train_y = train_data.iloc[:, 0]\n",
    "        train_X = train_data.iloc[:, 1:]\n",
    "\n",
    "        # Now use scikit-learn's decision tree classifier to train the model.\n",
    "        clf = tree.DecisionTreeClassifier(max_leaf_nodes=max_leaf_nodes)\n",
    "        clf = clf.fit(train_X, train_y)\n",
    "\n",
    "        predictions = clf.predict(train_X)\n",
    "        signature = infer_signature(train_X, predictions)\n",
    "\n",
    "        mlflow.set_tags(\n",
    "            {\n",
    "                'mlflow.source.name': \"@remote\\ndef train(...)\",\n",
    "                'mlflow.source.type': 'JOB',\n",
    "            }\n",
    "        )\n",
    "\n",
    "        mlflow.sklearn.log_model(clf, \"model\", signature=signature)"
   ]
  },
  {
   "cell_type": "code",
   "execution_count": null,
   "id": "eb5708b8-16c0-4058-938b-f209635795d2",
   "metadata": {},
   "outputs": [],
   "source": [
    "train_data = pd.read_csv('./data/iris.csv', header=None, engine=\"python\")"
   ]
  },
  {
   "cell_type": "markdown",
   "id": "4af04298-42ac-47b2-a95e-fec34dedb5bd",
   "metadata": {},
   "source": [
    "Now the execution of the `train` function will run in the cloud and the SageMaker SDK will take care of serializing/deserializing and marshalling/unmarshalling the data/variables.\n",
    "All relevant files will be packaged and made available to the training job in the way SageMaker expect it to find them."
   ]
  },
  {
   "cell_type": "code",
   "execution_count": null,
   "id": "21d6843b-60f8-4fd5-ae20-b6f8c0af21ce",
   "metadata": {},
   "outputs": [],
   "source": [
    "train(train_data, 2)"
   ]
  },
  {
   "cell_type": "code",
   "execution_count": null,
   "id": "9df734a1-ac62-49d4-8fd0-c3ffb0dc8b28",
   "metadata": {},
   "outputs": [],
   "source": [
    "# get the last run in MLflow\n",
    "last_run_id = mlflow.search_runs(\n",
    "    experiment_ids=[experiment_id], \n",
    "    max_results=1, \n",
    "    order_by=[\"attributes.start_time DESC\"]\n",
    ")['run_id'][0]\n",
    "\n",
    "mlflow_run_link = f\"{presigned_url.split('/auth')[0]}/#/experiments/{experiment_id}/runs/{last_run_id}\""
   ]
  },
  {
   "cell_type": "code",
   "execution_count": null,
   "id": "d448b6d1-796b-473a-b1db-d3af2d2c4edd",
   "metadata": {},
   "outputs": [],
   "source": [
    "display(Javascript('window.open(\"{}\");'.format(mlflow_run_link)))"
   ]
  },
  {
   "cell_type": "markdown",
   "id": "515a1ddc-61a8-431b-98c9-b1a0197520d8",
   "metadata": {},
   "source": [
    "## Running SageMaker training job in local mode\n",
    "\n",
    "We also have the possibility to use SageMaker in script mode using our own managed containers and just pass a script.\n",
    "Let first make sure all dependencies have already been installed. First, lets check that Docker has been enabled on the SageMaker AI Studio Domain"
   ]
  },
  {
   "cell_type": "code",
   "execution_count": null,
   "id": "71f392ad-b32b-4b0f-8d4f-e2e2e6a62460",
   "metadata": {},
   "outputs": [],
   "source": [
    "# check that docker enabled in the SageMaker domain\n",
    "docker_settings = sm_client.describe_domain(DomainId=domain_id)['DomainSettings'].get('DockerSettings')\n",
    "docker_enabled = False\n",
    "\n",
    "if docker_settings:\n",
    "    if docker_settings.get('EnableDockerAccess') in ['ENABLED']:\n",
    "        print(f\"The docker access is ENABLED in the domain {domain_id}\")\n",
    "        docker_enabled = True\n",
    "\n",
    "if not docker_enabled:\n",
    "    raise Exception(f\"You must enable docker access in the domain to use Studio local mode\")"
   ]
  },
  {
   "cell_type": "markdown",
   "id": "2eabc740-4e9a-46d0-9403-054fc964c0fe",
   "metadata": {},
   "source": [
    "and then that `docker` has been installed."
   ]
  },
  {
   "cell_type": "code",
   "execution_count": null,
   "id": "22f94095-87b9-428c-9a36-989d28ecf813",
   "metadata": {},
   "outputs": [],
   "source": [
    "%%bash\n",
    "\n",
    "# see https://docs.docker.com/engine/install/ubuntu/#install-using-the-repository\n",
    "sudo apt-get update\n",
    "sudo apt-get install -y ca-certificates curl\n",
    "sudo install -m 0755 -d /etc/apt/keyrings\n",
    "sudo curl -fsSL https://download.docker.com/linux/ubuntu/gpg -o /etc/apt/keyrings/docker.asc\n",
    "sudo chmod a+r /etc/apt/keyrings/docker.asc\n",
    "\n",
    "# Add the repository to Apt sources:\n",
    "echo \\\n",
    "  \"deb [arch=$(dpkg --print-architecture) signed-by=/etc/apt/keyrings/docker.asc] https://download.docker.com/linux/ubuntu \\\n",
    "  $(. /etc/os-release && echo \"$VERSION_CODENAME\") stable\" | \\\n",
    "  sudo tee /etc/apt/sources.list.d/docker.list > /dev/null\n",
    "sudo apt-get update\n",
    "\n",
    "## Currently only Docker version 20.10.X is supported in Studio: see https://docs.aws.amazon.com/sagemaker/latest/dg/studio-updated-local.html\n",
    "# pick the latest patch from:\n",
    "# apt-cache madison docker-ce | awk '{ print $3 }' | grep -i 20.10\n",
    "VERSION_STRING=5:20.10.24~3-0~ubuntu-jammy\n",
    "sudo apt-get install docker-ce-cli=$VERSION_STRING docker-compose-plugin -y\n",
    "\n",
    "# validate the Docker Client is able to access Docker Server at [unix:///docker/proxy.sock]\n",
    "docker version\n"
   ]
  },
  {
   "cell_type": "markdown",
   "id": "c3437947-c738-443f-a878-5053930cef33",
   "metadata": {},
   "source": [
    "Lets us now write a `train.py` script to process the training data."
   ]
  },
  {
   "cell_type": "code",
   "execution_count": null,
   "id": "69f4a75b-4fbc-4310-babd-de7302f65111",
   "metadata": {},
   "outputs": [],
   "source": [
    "%%writefile training_code/train.py\n",
    "\n",
    "from __future__ import print_function\n",
    "\n",
    "import argparse\n",
    "import os\n",
    "import pandas as pd\n",
    "\n",
    "from sklearn import tree\n",
    "\n",
    "import mlflow\n",
    "from mlflow.models import infer_signature\n",
    "\n",
    "mode = os.environ.get(\"MODE\")\n",
    "if mode is None:\n",
    "    run_name = \"Training\"\n",
    "else:\n",
    "    run_name = \"Local-Training\"\n",
    "\n",
    "if __name__ == '__main__':\n",
    "    parser = argparse.ArgumentParser()\n",
    "\n",
    "    # Hyperparameters are described here. In this simple example we are just including one hyperparameter.\n",
    "    parser.add_argument('--max_leaf_nodes', type=int, default=-1)\n",
    "\n",
    "    # Sagemaker specific arguments. Defaults are set in the environment variables.\n",
    "    parser.add_argument('--output-data-dir', type=str, default=os.environ['SM_OUTPUT_DATA_DIR'])\n",
    "    parser.add_argument('--model-dir', type=str, default=os.environ['SM_MODEL_DIR'])\n",
    "    parser.add_argument('--train', type=str, default=os.environ['SM_CHANNEL_TRAIN'])\n",
    "\n",
    "    args = parser.parse_args()\n",
    "\n",
    "    # Take the set of files and read them all into a single pandas dataframe\n",
    "    input_files = [ os.path.join(args.train, file) for file in os.listdir(args.train) if os.path.isfile(os.path.join(args.train, file))]\n",
    "    if len(input_files) == 0:\n",
    "        raise ValueError(('There are no files in {}.\\n' +\n",
    "                          'This usually indicates that the channel ({}) was incorrectly specified,\\n' +\n",
    "                          'the data specification in S3 was incorrectly specified or the role specified\\n' +\n",
    "                          'does not have permission to access the data.').format(args.train, \"train\"))\n",
    "    raw_data = [ pd.read_csv(file, header=None, engine=\"python\") for file in input_files ]\n",
    "    train_data = pd.concat(raw_data)\n",
    "    \n",
    "    # Enable autologging in MLflow for SKlearn\n",
    "    mlflow.sklearn.autolog()\n",
    "\n",
    "    with mlflow.start_run(run_name=run_name) as run:\n",
    "        # labels are in the first column\n",
    "        train_y = train_data.iloc[:, 0]\n",
    "        train_X = train_data.iloc[:, 1:]\n",
    "    \n",
    "        # Here we support a single hyperparameter, 'max_leaf_nodes'. Note that you can add as many\n",
    "        # as your training my require in the ArgumentParser above.\n",
    "        max_leaf_nodes = args.max_leaf_nodes\n",
    "    \n",
    "        # Now use scikit-learn's decision tree classifier to train the model.\n",
    "        clf = tree.DecisionTreeClassifier(max_leaf_nodes=max_leaf_nodes)\n",
    "        clf = clf.fit(train_X, train_y)\n",
    "    \n",
    "        predictions = clf.predict(train_X)\n",
    "        signature = infer_signature(train_X, predictions)\n",
    "\n",
    "        mlflow.set_tags(\n",
    "            {\n",
    "                'mlflow.source.name': \"training_code/train.py\",\n",
    "                'mlflow.source.type': 'JOB',\n",
    "            }\n",
    "        )\n",
    "    \n",
    "        mlflow.sklearn.log_model(clf, \"model\", signature=signature)\n"
   ]
  },
  {
   "cell_type": "markdown",
   "id": "4b4fb500-1334-4053-b721-9ad0a7038ba2",
   "metadata": {},
   "source": [
    "## SageMaker Local Model\n",
    "\n",
    "Run in local mode and log to the MLflow tracking server"
   ]
  },
  {
   "cell_type": "code",
   "execution_count": null,
   "id": "de2e0d44-5f36-453b-8e85-dc0fefcaf165",
   "metadata": {},
   "outputs": [],
   "source": [
    "from sagemaker.local import LocalSession\n",
    "\n",
    "LOCAL_SESSION = LocalSession()\n",
    "LOCAL_SESSION.config = {'local': {'local_code': True}}  # Ensure full code locality, see: https://sagemaker.readthedocs.io/en/stable/overview.html#local-mode\n",
    "\n",
    "\n",
    "sklearn_local = SKLearn(\n",
    "    entry_point=\"train.py\",\n",
    "    source_dir=\"training_code\",\n",
    "    framework_version=\"1.2-1\",\n",
    "    instance_type=\"ml.c5.xlarge\",\n",
    "    role=role,\n",
    "    sagemaker_session=LOCAL_SESSION,\n",
    "    hyperparameters={\"max_leaf_nodes\": 30},\n",
    "    keep_alive_period_in_seconds=3600,\n",
    "    environment={\n",
    "        \"MLFLOW_TRACKING_URI\": mlflow_server_arn,\n",
    "        \"MODE\": \"local-mode\",\n",
    "        \"LOGNAME\": user_profile_name,\n",
    "        \"MLFLOW_EXPERIMENT_NAME\": mlflow_experiment_name\n",
    "    },\n",
    ")\n",
    "\n",
    "sklearn_local.fit({\"train\": train_input})"
   ]
  },
  {
   "cell_type": "code",
   "execution_count": null,
   "id": "ea5bf9ef-0840-4cec-8bda-15e53120b702",
   "metadata": {},
   "outputs": [],
   "source": [
    "experiment_id = mlflow.get_experiment_by_name(mlflow_experiment_name).experiment_id\n",
    "# get the last run in MLflow\n",
    "last_run_id = mlflow.search_runs(\n",
    "    experiment_ids=[experiment_id], \n",
    "    max_results=1, \n",
    "    order_by=[\"attributes.start_time DESC\"]\n",
    ")['run_id'][0]\n",
    "\n",
    "\n",
    "mlflow_run_link = f\"{presigned_url.split('/auth')[0]}/#/experiments/{experiment_id}/runs/{last_run_id}\""
   ]
  },
  {
   "cell_type": "code",
   "execution_count": null,
   "id": "c328fa79-0930-477d-8201-a12b60686aed",
   "metadata": {},
   "outputs": [],
   "source": [
    "display(Javascript('window.open(\"{}\");'.format(mlflow_run_link)))"
   ]
  },
  {
   "cell_type": "markdown",
   "id": "f61ca4c8-6ff2-4b31-87ff-c472d8db3246",
   "metadata": {},
   "source": [
    "Run in the managed infrastructure mode and log to the MLflow tracking server"
   ]
  },
  {
   "cell_type": "code",
   "execution_count": null,
   "id": "5c71f310-2d9f-459d-8bcd-0e9c3d0ec53c",
   "metadata": {},
   "outputs": [],
   "source": [
    "sklearn = SKLearn(\n",
    "    entry_point=\"train.py\",\n",
    "    source_dir=\"training_code\",\n",
    "    framework_version=\"1.2-1\",\n",
    "    instance_type=\"ml.c5.xlarge\",\n",
    "    role=role,\n",
    "    sagemaker_session=sagemaker_session,\n",
    "    hyperparameters={\"max_leaf_nodes\": 30},\n",
    "    keep_alive_period_in_seconds=3600,\n",
    "    environment={\n",
    "        \"MLFLOW_TRACKING_URI\": mlflow_server_arn,\n",
    "        \"LOGNAME\": user_profile_name,\n",
    "        \"MLFLOW_EXPERIMENT_NAME\": mlflow_experiment_name\n",
    "    },\n",
    ")\n",
    "\n",
    "sklearn.fit({\"train\": train_input})"
   ]
  },
  {
   "cell_type": "code",
   "execution_count": null,
   "id": "0c5eb8e9-1e06-4074-a454-fc13dcd413e4",
   "metadata": {},
   "outputs": [],
   "source": [
    "# get the last run in MLflow\n",
    "last_run_id = mlflow.search_runs(\n",
    "    experiment_ids=[experiment_id], \n",
    "    max_results=1, \n",
    "    order_by=[\"attributes.start_time DESC\"]\n",
    ")['run_id'][0]\n",
    "\n",
    "mlflow_run_link = f\"{presigned_url.split('/auth')[0]}/#/experiments/{experiment_id}/runs/{last_run_id}\""
   ]
  },
  {
   "cell_type": "code",
   "execution_count": null,
   "id": "30f9f1e9-2b79-4631-9a65-49f276e7d324",
   "metadata": {},
   "outputs": [],
   "source": [
    "display(Javascript('window.open(\"{}\");'.format(mlflow_run_link)))"
   ]
  },
  {
   "cell_type": "markdown",
   "id": "332b3828-e3bf-49c2-835d-403d6d0c4708",
   "metadata": {},
   "source": [
    "## Registering a MLflow model "
   ]
  },
  {
   "cell_type": "code",
   "execution_count": null,
   "id": "e0d665ed-118f-42a7-9c20-719bb66b5fd4",
   "metadata": {},
   "outputs": [],
   "source": [
    "registered_model_name = \"sm-immersion-day-model\"\n",
    "\n",
    "# construct the model URI\n",
    "model_uri = f\"runs:/{last_run_id}/model\"\n",
    "\n",
    "# register the model\n",
    "registered_model_version = mlflow.register_model(model_uri, registered_model_name)"
   ]
  },
  {
   "cell_type": "code",
   "execution_count": null,
   "id": "f50b7abd-fe03-4f4a-973c-99999e065593",
   "metadata": {},
   "outputs": [],
   "source": [
    "# get SageMaker model registry data for this model version\n",
    "model_package_group_name = sm_client.list_model_package_groups(NameContains=registered_model_name)['ModelPackageGroupSummaryList'][0]['ModelPackageGroupName']\n",
    "sm_model_package = sm_client.list_model_packages(\n",
    "        ModelPackageGroupName=model_package_group_name,\n",
    "        SortBy=\"CreationTime\",\n",
    "        SortOrder=\"Descending\",\n",
    "    )['ModelPackageSummaryList'][0]\n",
    "\n"
   ]
  },
  {
   "cell_type": "code",
   "execution_count": null,
   "id": "53688614-07f5-4e61-84f2-d5e3c1fcf926",
   "metadata": {},
   "outputs": [],
   "source": [
    "sm_model_package"
   ]
  },
  {
   "cell_type": "code",
   "execution_count": null,
   "id": "a8ddffac-14e6-4f94-b7a7-bdb08612af97",
   "metadata": {},
   "outputs": [],
   "source": [
    "model_approval_status = 'PendingManualApproval'\n",
    "\n",
    "# update SageMaker model version with mlflow cross-reference\n",
    "sm_client.update_model_package(\n",
    "        ModelPackageArn=sm_model_package['ModelPackageArn'],\n",
    "        ModelApprovalStatus=model_approval_status,\n",
    "        ApprovalDescription=\"created a new model version\",\n",
    "        CustomerMetadataProperties={\n",
    "            \"mlflow_model_name\": registered_model_version.name,\n",
    "            \"mlflow_model_uri\": model_uri,\n",
    "            \"mlflow_experiment_name\": mlflow_experiment_name,\n",
    "        },\n",
    ")\n"
   ]
  },
  {
   "cell_type": "code",
   "execution_count": null,
   "id": "19ac6588-fa92-4af8-b52f-ff117ca38343",
   "metadata": {},
   "outputs": [],
   "source": [
    "\n",
    "\n",
    "# Show the model registry link\n",
    "display(\n",
    "    HTML('<b>See <a target=\"top\" href=\"https://studio-{}.studio.{}.sagemaker.aws/models/registered-models/{}/versions\">the model package group</a> in the Studio UI</b>'.format(\n",
    "            domain_id, region, model_package_group_name))\n",
    ")\n",
    "\n"
   ]
  }
 ],
 "metadata": {
  "kernelspec": {
   "display_name": "Python 3 (ipykernel)",
   "language": "python",
   "name": "python3"
  },
  "language_info": {
   "codemirror_mode": {
    "name": "ipython",
    "version": 3
   },
   "file_extension": ".py",
   "mimetype": "text/x-python",
   "name": "python",
   "nbconvert_exporter": "python",
   "pygments_lexer": "ipython3",
   "version": "3.12.9"
  }
 },
 "nbformat": 4,
 "nbformat_minor": 5
}
